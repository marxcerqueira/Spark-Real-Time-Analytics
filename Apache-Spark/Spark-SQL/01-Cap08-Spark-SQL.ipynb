{
 "cells": [
  {
   "cell_type": "markdown",
   "metadata": {},
   "source": [
    "# <font color='blue'>Data Science Academy</font>\n",
    "# <font color='blue'>Big Data Real-Time Analytics com Python e Spark</font>\n",
    "\n",
    "# <font color='blue'>Capítulo 8</font>"
   ]
  },
  {
   "cell_type": "markdown",
   "metadata": {},
   "source": [
    "### *********** Atenção: *********** \n",
    "Utilize Java JDK 1.8 e Apache Spark 2.4.2"
   ]
  },
  {
   "cell_type": "markdown",
   "metadata": {},
   "source": [
    "Java JDK 1.8:\n",
    "\n",
    "https://www.oracle.com/technetwork/java/javase/downloads/jdk8-downloads-2133151.html"
   ]
  },
  {
   "cell_type": "markdown",
   "metadata": {},
   "source": [
    "*Caso receba mensagem de erro \"name 'sc' is not defined\", interrompa o pyspark e apague o diretório metastore_db no mesmo diretório onde está este Jupyter notebook*"
   ]
  },
  {
   "cell_type": "markdown",
   "metadata": {},
   "source": [
    "# Spark SQL"
   ]
  },
  {
   "cell_type": "markdown",
   "metadata": {},
   "source": [
    "O Spark SQL é usado para acessar dados estruturados com Spark."
   ]
  },
  {
   "cell_type": "markdown",
   "metadata": {},
   "source": [
    "#### Acesse http://localhost:4040 sempre que quiser acompanhar a execução dos jobs. \n",
    "#### Pacotes adicionais podem ser encontrados aqui: https://spark-packages.org/ (usaremos um destes pacotes para conexão com o MongoDB)."
   ]
  },
  {
   "cell_type": "markdown",
   "metadata": {},
   "source": [
    "## Spark SQL - Spark Session e SQL Context"
   ]
  },
  {
   "cell_type": "code",
   "execution_count": 1,
   "metadata": {
    "ExecuteTime": {
     "end_time": "2022-04-17T20:39:59.944598Z",
     "start_time": "2022-04-17T20:39:59.941466Z"
    }
   },
   "outputs": [],
   "source": [
    "from pyspark.sql import SparkSession\n",
    "from pyspark.sql import SQLContext\n",
    "from pyspark.sql import Row"
   ]
  },
  {
   "cell_type": "code",
   "execution_count": 2,
   "metadata": {
    "ExecuteTime": {
     "end_time": "2022-04-17T19:56:21.298136Z",
     "start_time": "2022-04-17T19:56:21.291989Z"
    }
   },
   "outputs": [
    {
     "name": "stdout",
     "output_type": "stream",
     "text": [
      "<SparkContext master=local[*] appName=PySparkShell>\n"
     ]
    }
   ],
   "source": [
    "print(sc)"
   ]
  },
  {
   "cell_type": "code",
   "execution_count": 3,
   "metadata": {
    "ExecuteTime": {
     "end_time": "2022-04-17T12:37:24.656456Z",
     "start_time": "2022-04-17T12:37:24.649523Z"
    }
   },
   "outputs": [],
   "source": [
    "# Spark Session - usado para trabalhar com o Spark\n",
    "spSession = SparkSession.builder.master(\"local\").appName(\"analytics_SparkSQL\").getOrCreate()"
   ]
  },
  {
   "cell_type": "code",
   "execution_count": 4,
   "metadata": {
    "ExecuteTime": {
     "end_time": "2022-04-17T12:37:34.324709Z",
     "start_time": "2022-04-17T12:37:34.320793Z"
    }
   },
   "outputs": [],
   "source": [
    "# Criando o SQL Context para trabalhar com Spark SQL\n",
    "sqlContext = SQLContext(sc)"
   ]
  },
  {
   "cell_type": "code",
   "execution_count": 5,
   "metadata": {
    "ExecuteTime": {
     "end_time": "2022-04-17T12:46:47.263626Z",
     "start_time": "2022-04-17T12:46:46.905146Z"
    }
   },
   "outputs": [],
   "source": [
    "# Importando o arquivo e criando um RDD\n",
    "linhasRDD1 = sc.textFile(\"data/carros.csv\")"
   ]
  },
  {
   "cell_type": "code",
   "execution_count": 6,
   "metadata": {
    "ExecuteTime": {
     "end_time": "2022-04-17T12:46:53.785264Z",
     "start_time": "2022-04-17T12:46:53.114054Z"
    }
   },
   "outputs": [
    {
     "data": {
      "text/plain": [
       "198"
      ]
     },
     "execution_count": 6,
     "metadata": {},
     "output_type": "execute_result"
    }
   ],
   "source": [
    "linhasRDD1.count()"
   ]
  },
  {
   "cell_type": "code",
   "execution_count": 7,
   "metadata": {
    "ExecuteTime": {
     "end_time": "2022-04-17T12:47:14.004006Z",
     "start_time": "2022-04-17T12:47:13.996699Z"
    }
   },
   "outputs": [],
   "source": [
    "# Removendo a primeira linha - Transformação 1 ou lazy evaluation\n",
    "linhasRDD2 = linhasRDD1.filter(lambda x: \"FUELTYPE\" not in x)"
   ]
  },
  {
   "cell_type": "code",
   "execution_count": 8,
   "metadata": {
    "ExecuteTime": {
     "end_time": "2022-04-17T12:47:18.092474Z",
     "start_time": "2022-04-17T12:47:18.036321Z"
    }
   },
   "outputs": [
    {
     "data": {
      "text/plain": [
       "197"
      ]
     },
     "execution_count": 8,
     "metadata": {},
     "output_type": "execute_result"
    }
   ],
   "source": [
    "linhasRDD2.count()"
   ]
  },
  {
   "cell_type": "code",
   "execution_count": 10,
   "metadata": {
    "ExecuteTime": {
     "end_time": "2022-04-17T12:53:04.807950Z",
     "start_time": "2022-04-17T12:53:04.803697Z"
    }
   },
   "outputs": [],
   "source": [
    "# Dividindo o conjunto de dados em colunas - Transformação 2\n",
    "linhasRDD3 = linhasRDD2.map(lambda line: line.split(\",\"))"
   ]
  },
  {
   "cell_type": "code",
   "execution_count": 11,
   "metadata": {
    "ExecuteTime": {
     "end_time": "2022-04-17T12:53:06.180765Z",
     "start_time": "2022-04-17T12:53:06.175637Z"
    }
   },
   "outputs": [],
   "source": [
    "# Dividindo o conjunto de dados em colunas - Transformação 3\n",
    "# row extrai cada linha do meu RDD dando mais ou menos uma extrutura ao RDD\n",
    "linhasRDD4 = linhasRDD3.map(lambda p: Row(make = p[0], body = p[4], hp = int(p[7])))"
   ]
  },
  {
   "cell_type": "code",
   "execution_count": 12,
   "metadata": {
    "ExecuteTime": {
     "end_time": "2022-04-17T12:53:08.050389Z",
     "start_time": "2022-04-17T12:53:08.034412Z"
    }
   },
   "outputs": [
    {
     "name": "stdout",
     "output_type": "stream",
     "text": [
      "PythonRDD[4] at RDD at PythonRDD.scala:53\n"
     ]
    }
   ],
   "source": [
    "print(linhasRDD4)"
   ]
  },
  {
   "cell_type": "code",
   "execution_count": 9,
   "metadata": {
    "ExecuteTime": {
     "end_time": "2022-04-17T12:50:58.721347Z",
     "start_time": "2022-04-17T12:50:58.683128Z"
    }
   },
   "outputs": [],
   "source": [
    "?Row"
   ]
  },
  {
   "cell_type": "code",
   "execution_count": 13,
   "metadata": {
    "ExecuteTime": {
     "end_time": "2022-04-17T12:53:15.935857Z",
     "start_time": "2022-04-17T12:53:15.873534Z"
    }
   },
   "outputs": [
    {
     "data": {
      "text/plain": [
       "[Row(make='subaru', body='hatchback', hp=69),\n",
       " Row(make='chevrolet', body='hatchback', hp=48),\n",
       " Row(make='mazda', body='hatchback', hp=68),\n",
       " Row(make='toyota', body='hatchback', hp=62),\n",
       " Row(make='mitsubishi', body='hatchback', hp=68),\n",
       " Row(make='honda', body='hatchback', hp=60),\n",
       " Row(make='nissan', body='sedan', hp=69),\n",
       " Row(make='dodge', body='hatchback', hp=68),\n",
       " Row(make='plymouth', body='hatchback', hp=68),\n",
       " Row(make='mazda', body='hatchback', hp=68),\n",
       " Row(make='mitsubishi', body='hatchback', hp=68),\n",
       " Row(make='dodge', body='hatchback', hp=68),\n",
       " Row(make='plymouth', body='hatchback', hp=68),\n",
       " Row(make='chevrolet', body='hatchback', hp=70),\n",
       " Row(make='toyota', body='hatchback', hp=62),\n",
       " Row(make='dodge', body='hatchback', hp=68),\n",
       " Row(make='honda', body='hatchback', hp=58),\n",
       " Row(make='toyota', body='hatchback', hp=62),\n",
       " Row(make='honda', body='hatchback', hp=76),\n",
       " Row(make='chevrolet', body='sedan', hp=70),\n",
       " Row(make='nissan', body='sedan', hp=69),\n",
       " Row(make='mitsubishi', body='hatchback', hp=68),\n",
       " Row(make='dodge', body='sedan', hp=68),\n",
       " Row(make='plymouth', body='sedan', hp=68),\n",
       " Row(make='mazda', body='sedan', hp=68),\n",
       " Row(make='isuzu', body='sedan', hp=78),\n",
       " Row(make='mazda', body='hatchback', hp=68),\n",
       " Row(make='nissan', body='sedan', hp=69),\n",
       " Row(make='honda', body='hatchback', hp=76),\n",
       " Row(make='toyota', body='wagon', hp=62),\n",
       " Row(make='toyota', body='sedan', hp=70),\n",
       " Row(make='mitsubishi', body='sedan', hp=88),\n",
       " Row(make='subaru', body='hatchback', hp=73),\n",
       " Row(make='nissan', body='sedan', hp=55),\n",
       " Row(make='subaru', body='sedan', hp=82),\n",
       " Row(make='honda', body='hatchback', hp=76),\n",
       " Row(make='toyota', body='hatchback', hp=70),\n",
       " Row(make='honda', body='sedan', hp=76),\n",
       " Row(make='honda', body='wagon', hp=76),\n",
       " Row(make='nissan', body='sedan', hp=69),\n",
       " Row(make='nissan', body='wagon', hp=69),\n",
       " Row(make='mazda', body='sedan', hp=68),\n",
       " Row(make='subaru', body='wagon', hp=82),\n",
       " Row(make='nissan', body='sedan', hp=69),\n",
       " Row(make='subaru', body='hatchback', hp=73),\n",
       " Row(make='dodge', body='sedan', hp=68),\n",
       " Row(make='plymouth', body='sedan', hp=68),\n",
       " Row(make='mitsubishi', body='hatchback', hp=102),\n",
       " Row(make='toyota', body='sedan', hp=70),\n",
       " Row(make='subaru', body='sedan', hp=82),\n",
       " Row(make='volkswagen', body='sedan', hp=52),\n",
       " Row(make='toyota', body='hatchback', hp=56),\n",
       " Row(make='nissan', body='hatchback', hp=69),\n",
       " Row(make='honda', body='hatchback', hp=86),\n",
       " Row(make='toyota', body='wagon', hp=62),\n",
       " Row(make='toyota', body='sedan', hp=56),\n",
       " Row(make='dodge', body='hatchback', hp=102),\n",
       " Row(make='plymouth', body='hatchback', hp=102),\n",
       " Row(make='volkswagen', body='sedan', hp=85),\n",
       " Row(make='volkswagen', body='sedan', hp=52),\n",
       " Row(make='nissan', body='wagon', hp=69),\n",
       " Row(make='subaru', body='wagon', hp=82),\n",
       " Row(make='toyota', body='sedan', hp=70),\n",
       " Row(make='mitsubishi', body='sedan', hp=88),\n",
       " Row(make='volkswagen', body='sedan', hp=85),\n",
       " Row(make='toyota', body='hatchback', hp=70),\n",
       " Row(make='nissan', body='hardtop', hp=69),\n",
       " Row(make='toyota', body='hatchback', hp=70),\n",
       " Row(make='toyota', body='hardtop', hp=116),\n",
       " Row(make='mazda', body='sedan', hp=84),\n",
       " Row(make='volkswagen', body='sedan', hp=85),\n",
       " Row(make='mitsubishi', body='hatchback', hp=88),\n",
       " Row(make='toyota', body='wagon', hp=62),\n",
       " Row(make='honda', body='sedan', hp=86),\n",
       " Row(make='mazda', body='hatchback', hp=84),\n",
       " Row(make='dodge', body='wagon', hp=88),\n",
       " Row(make='plymouth', body='wagon', hp=88),\n",
       " Row(make='toyota', body='sedan', hp=92),\n",
       " Row(make='nissan', body='hatchback', hp=97),\n",
       " Row(make='honda', body='hatchback', hp=86),\n",
       " Row(make='subaru', body='sedan', hp=82),\n",
       " Row(make='toyota', body='sedan', hp=70),\n",
       " Row(make='mitsubishi', body='sedan', hp=116),\n",
       " Row(make='mitsubishi', body='sedan', hp=116),\n",
       " Row(make='toyota', body='sedan', hp=112),\n",
       " Row(make='volkswagen', body='sedan', hp=68),\n",
       " Row(make='toyota', body='hatchback', hp=112),\n",
       " Row(make='nissan', body='sedan', hp=97),\n",
       " Row(make='toyota', body='hardtop', hp=116),\n",
       " Row(make='mitsubishi', body='hatchback', hp=116),\n",
       " Row(make='subaru', body='sedan', hp=94),\n",
       " Row(make='volkswagen', body='hatchback', hp=90),\n",
       " Row(make='toyota', body='hatchback', hp=92),\n",
       " Row(make='toyota', body='hatchback', hp=116),\n",
       " Row(make='volkswagen', body='sedan', hp=100),\n",
       " Row(make='subaru', body='wagon', hp=94),\n",
       " Row(make='mazda', body='sedan', hp=84),\n",
       " Row(make='honda', body='sedan', hp=86),\n",
       " Row(make='honda', body='sedan', hp=100),\n",
       " Row(make='mazda', body='hatchback', hp=84),\n",
       " Row(make='toyota', body='sedan', hp=73),\n",
       " Row(make='toyota', body='sedan', hp=92),\n",
       " Row(make='mazda', body='hatchback', hp=101),\n",
       " Row(make='isuzu', body='hatchback', hp=90),\n",
       " Row(make='toyota', body='hardtop', hp=116),\n",
       " Row(make='mazda', body='hatchback', hp=84),\n",
       " Row(make='toyota', body='hatchback', hp=92),\n",
       " Row(make='subaru', body='sedan', hp=111),\n",
       " Row(make='toyota', body='hatchback', hp=116),\n",
       " Row(make='volkswagen', body='convertible', hp=90),\n",
       " Row(make='subaru', body='wagon', hp=111),\n",
       " Row(make='mazda', body='hatchback', hp=101),\n",
       " Row(make='saab', body='hatchback', hp=110),\n",
       " Row(make='peugot', body='sedan', hp=97),\n",
       " Row(make='saab', body='sedan', hp=110),\n",
       " Row(make='volkswagen', body='wagon', hp=88),\n",
       " Row(make='peugot', body='wagon', hp=97),\n",
       " Row(make='mitsubishi', body='hatchback', hp=145),\n",
       " Row(make='plymouth', body='hatchback', hp=145),\n",
       " Row(make='volvo', body='sedan', hp=114),\n",
       " Row(make='honda', body='sedan', hp=101),\n",
       " Row(make='dodge', body='hatchback', hp=145),\n",
       " Row(make='peugot', body='sedan', hp=95),\n",
       " Row(make='volkswagen', body='sedan', hp=110),\n",
       " Row(make='volvo', body='wagon', hp=114),\n",
       " Row(make='alfa-romero', body='convertible', hp=111),\n",
       " Row(make='nissan', body='sedan', hp=152),\n",
       " Row(make='nissan', body='sedan', hp=152),\n",
       " Row(make='mazda', body='hatchback', hp=101),\n",
       " Row(make='volkswagen', body='sedan', hp=68),\n",
       " Row(make='peugot', body='wagon', hp=95),\n",
       " Row(make='audi', body='sedan', hp=102),\n",
       " Row(make='nissan', body='wagon', hp=152),\n",
       " Row(make='mitsubishi', body='hatchback', hp=145),\n",
       " Row(make='mitsubishi', body='hatchback', hp=145),\n",
       " Row(make='saab', body='hatchback', hp=110),\n",
       " Row(make='audi', body='sedan', hp=110),\n",
       " Row(make='saab', body='sedan', hp=110),\n",
       " Row(make='peugot', body='sedan', hp=95),\n",
       " Row(make='mazda', body='hatchback', hp=135),\n",
       " Row(make='toyota', body='sedan', hp=156),\n",
       " Row(make='toyota', body='wagon', hp=156),\n",
       " Row(make='volvo', body='sedan', hp=114),\n",
       " Row(make='toyota', body='hatchback', hp=161),\n",
       " Row(make='bmw', body='sedan', hp=101),\n",
       " Row(make='alfa-romero', body='convertible', hp=111),\n",
       " Row(make='alfa-romero', body='hatchback', hp=154),\n",
       " Row(make='mercury', body='hatchback', hp=175),\n",
       " Row(make='volvo', body='wagon', hp=114),\n",
       " Row(make='toyota', body='hatchback', hp=161),\n",
       " Row(make='peugot', body='sedan', hp=97),\n",
       " Row(make='peugot', body='wagon', hp=95),\n",
       " Row(make='volvo', body='sedan', hp=114),\n",
       " Row(make='peugot', body='sedan', hp=95),\n",
       " Row(make='bmw', body='sedan', hp=101),\n",
       " Row(make='peugot', body='wagon', hp=95),\n",
       " Row(make='nissan', body='hatchback', hp=160),\n",
       " Row(make='audi', body='sedan', hp=115),\n",
       " Row(make='toyota', body='convertible', hp=116),\n",
       " Row(make='audi', body='sedan', hp=110),\n",
       " Row(make='peugot', body='sedan', hp=95),\n",
       " Row(make='peugot', body='sedan', hp=142),\n",
       " Row(make='saab', body='hatchback', hp=160),\n",
       " Row(make='mazda', body='sedan', hp=120),\n",
       " Row(make='mazda', body='sedan', hp=72),\n",
       " Row(make='nissan', body='hatchback', hp=160),\n",
       " Row(make='volvo', body='sedan', hp=162),\n",
       " Row(make='saab', body='sedan', hp=160),\n",
       " Row(make='audi', body='wagon', hp=110),\n",
       " Row(make='volvo', body='wagon', hp=162),\n",
       " Row(make='volvo', body='sedan', hp=160),\n",
       " Row(make='nissan', body='hatchback', hp=200),\n",
       " Row(make='bmw', body='sedan', hp=121),\n",
       " Row(make='bmw', body='sedan', hp=121),\n",
       " Row(make='volvo', body='sedan', hp=134),\n",
       " Row(make='porsche', body='hatchback', hp=143),\n",
       " Row(make='volvo', body='sedan', hp=106),\n",
       " Row(make='volvo', body='sedan', hp=114),\n",
       " Row(make='audi', body='sedan', hp=140),\n",
       " Row(make='bmw', body='sedan', hp=121),\n",
       " Row(make='mercedes-benz', body='sedan', hp=123),\n",
       " Row(make='mercedes-benz', body='hardtop', hp=123),\n",
       " Row(make='mercedes-benz', body='wagon', hp=123),\n",
       " Row(make='bmw', body='sedan', hp=182),\n",
       " Row(make='mercedes-benz', body='sedan', hp=123),\n",
       " Row(make='jaguar', body='sedan', hp=176),\n",
       " Row(make='porsche', body='hardtop', hp=207),\n",
       " Row(make='porsche', body='hardtop', hp=207),\n",
       " Row(make='mercedes-benz', body='sedan', hp=155),\n",
       " Row(make='mercedes-benz', body='convertible', hp=155),\n",
       " Row(make='jaguar', body='sedan', hp=176),\n",
       " Row(make='jaguar', body='sedan', hp=262),\n",
       " Row(make='bmw', body='sedan', hp=182),\n",
       " Row(make='porsche', body='convertible', hp=207),\n",
       " Row(make='mercedes-benz', body='sedan', hp=184),\n",
       " Row(make='bmw', body='sedan', hp=182),\n",
       " Row(make='mercedes-benz', body='hardtop', hp=184)]"
      ]
     },
     "execution_count": 13,
     "metadata": {},
     "output_type": "execute_result"
    }
   ],
   "source": [
    "linhasRDD4.collect()"
   ]
  },
  {
   "cell_type": "code",
   "execution_count": 14,
   "metadata": {
    "ExecuteTime": {
     "end_time": "2022-04-17T12:54:38.446418Z",
     "start_time": "2022-04-17T12:54:37.307175Z"
    }
   },
   "outputs": [],
   "source": [
    "# Criando um dataframe a partir do RDD\n",
    "linhasDF = spSession.createDataFrame(linhasRDD4)"
   ]
  },
  {
   "cell_type": "code",
   "execution_count": 15,
   "metadata": {
    "ExecuteTime": {
     "end_time": "2022-04-17T12:54:40.912243Z",
     "start_time": "2022-04-17T12:54:40.314515Z"
    }
   },
   "outputs": [
    {
     "name": "stdout",
     "output_type": "stream",
     "text": [
      "+----------+---------+---+\n",
      "|      make|     body| hp|\n",
      "+----------+---------+---+\n",
      "|    subaru|hatchback| 69|\n",
      "| chevrolet|hatchback| 48|\n",
      "|     mazda|hatchback| 68|\n",
      "|    toyota|hatchback| 62|\n",
      "|mitsubishi|hatchback| 68|\n",
      "|     honda|hatchback| 60|\n",
      "|    nissan|    sedan| 69|\n",
      "|     dodge|hatchback| 68|\n",
      "|  plymouth|hatchback| 68|\n",
      "|     mazda|hatchback| 68|\n",
      "|mitsubishi|hatchback| 68|\n",
      "|     dodge|hatchback| 68|\n",
      "|  plymouth|hatchback| 68|\n",
      "| chevrolet|hatchback| 70|\n",
      "|    toyota|hatchback| 62|\n",
      "|     dodge|hatchback| 68|\n",
      "|     honda|hatchback| 58|\n",
      "|    toyota|hatchback| 62|\n",
      "|     honda|hatchback| 76|\n",
      "| chevrolet|    sedan| 70|\n",
      "+----------+---------+---+\n",
      "only showing top 20 rows\n",
      "\n"
     ]
    }
   ],
   "source": [
    "linhasDF.show()"
   ]
  },
  {
   "cell_type": "code",
   "execution_count": 16,
   "metadata": {
    "ExecuteTime": {
     "end_time": "2022-04-17T12:54:53.182971Z",
     "start_time": "2022-04-17T12:54:53.176245Z"
    }
   },
   "outputs": [
    {
     "data": {
      "text/plain": [
       "pyspark.sql.dataframe.DataFrame"
      ]
     },
     "execution_count": 16,
     "metadata": {},
     "output_type": "execute_result"
    }
   ],
   "source": [
    "type(linhasDF)"
   ]
  },
  {
   "cell_type": "code",
   "execution_count": 17,
   "metadata": {
    "ExecuteTime": {
     "end_time": "2022-04-17T12:55:06.039062Z",
     "start_time": "2022-04-17T12:55:05.924197Z"
    }
   },
   "outputs": [
    {
     "name": "stdout",
     "output_type": "stream",
     "text": [
      "+----------+---------+---+\n",
      "|      make|     body| hp|\n",
      "+----------+---------+---+\n",
      "|    subaru|hatchback| 69|\n",
      "| chevrolet|hatchback| 48|\n",
      "|     mazda|hatchback| 68|\n",
      "|    toyota|hatchback| 62|\n",
      "|mitsubishi|hatchback| 68|\n",
      "|     honda|hatchback| 60|\n",
      "|    nissan|    sedan| 69|\n",
      "|     dodge|hatchback| 68|\n",
      "|  plymouth|hatchback| 68|\n",
      "|     mazda|hatchback| 68|\n",
      "|mitsubishi|hatchback| 68|\n",
      "|     dodge|hatchback| 68|\n",
      "|  plymouth|hatchback| 68|\n",
      "| chevrolet|hatchback| 70|\n",
      "|    toyota|hatchback| 62|\n",
      "|     dodge|hatchback| 68|\n",
      "|     honda|hatchback| 58|\n",
      "|    toyota|hatchback| 62|\n",
      "|     honda|hatchback| 76|\n",
      "| chevrolet|    sedan| 70|\n",
      "+----------+---------+---+\n",
      "only showing top 20 rows\n",
      "\n"
     ]
    }
   ],
   "source": [
    "# Mesma coisa que: SELECT * FROM linhasDF\n",
    "linhasDF.select(\"*\").show()"
   ]
  },
  {
   "cell_type": "code",
   "execution_count": 20,
   "metadata": {
    "ExecuteTime": {
     "end_time": "2022-04-17T12:55:46.566538Z",
     "start_time": "2022-04-17T12:55:46.486849Z"
    }
   },
   "outputs": [
    {
     "name": "stdout",
     "output_type": "stream",
     "text": [
      "+----------+---+\n",
      "|      make| hp|\n",
      "+----------+---+\n",
      "|    subaru| 69|\n",
      "| chevrolet| 48|\n",
      "|     mazda| 68|\n",
      "|    toyota| 62|\n",
      "|mitsubishi| 68|\n",
      "|     honda| 60|\n",
      "|    nissan| 69|\n",
      "|     dodge| 68|\n",
      "|  plymouth| 68|\n",
      "|     mazda| 68|\n",
      "|mitsubishi| 68|\n",
      "|     dodge| 68|\n",
      "|  plymouth| 68|\n",
      "| chevrolet| 70|\n",
      "|    toyota| 62|\n",
      "|     dodge| 68|\n",
      "|     honda| 58|\n",
      "|    toyota| 62|\n",
      "|     honda| 76|\n",
      "| chevrolet| 70|\n",
      "+----------+---+\n",
      "only showing top 20 rows\n",
      "\n"
     ]
    }
   ],
   "source": [
    "linhasDF.select('make', 'hp').show()"
   ]
  },
  {
   "cell_type": "code",
   "execution_count": 18,
   "metadata": {
    "ExecuteTime": {
     "end_time": "2022-04-17T12:55:10.102596Z",
     "start_time": "2022-04-17T12:55:09.915152Z"
    },
    "scrolled": true
   },
   "outputs": [
    {
     "name": "stdout",
     "output_type": "stream",
     "text": [
      "+-----------+-----------+---+\n",
      "|       make|       body| hp|\n",
      "+-----------+-----------+---+\n",
      "|alfa-romero|  hatchback|154|\n",
      "|alfa-romero|convertible|111|\n",
      "|alfa-romero|convertible|111|\n",
      "|       audi|      sedan|110|\n",
      "|       audi|      sedan|115|\n",
      "|       audi|      sedan|110|\n",
      "|       audi|      wagon|110|\n",
      "|       audi|      sedan|140|\n",
      "|       audi|      sedan|102|\n",
      "|        bmw|      sedan|101|\n",
      "|        bmw|      sedan|101|\n",
      "|        bmw|      sedan|121|\n",
      "|        bmw|      sedan|121|\n",
      "|        bmw|      sedan|182|\n",
      "|        bmw|      sedan|182|\n",
      "|        bmw|      sedan|121|\n",
      "|        bmw|      sedan|182|\n",
      "|  chevrolet|      sedan| 70|\n",
      "|  chevrolet|  hatchback| 70|\n",
      "|  chevrolet|  hatchback| 48|\n",
      "+-----------+-----------+---+\n",
      "only showing top 20 rows\n",
      "\n"
     ]
    }
   ],
   "source": [
    "# Mesma coisa que: SELECT * FROM linhasDF ORDER BY make\n",
    "linhasDF.orderBy(\"make\").show()"
   ]
  },
  {
   "cell_type": "code",
   "execution_count": 38,
   "metadata": {
    "ExecuteTime": {
     "end_time": "2022-04-17T13:09:34.772806Z",
     "start_time": "2022-04-17T13:09:34.659125Z"
    }
   },
   "outputs": [
    {
     "name": "stdout",
     "output_type": "stream",
     "text": [
      "+-------------+-----------+---+\n",
      "|         make|       body| hp|\n",
      "+-------------+-----------+---+\n",
      "|       jaguar|      sedan|262|\n",
      "|      porsche|    hardtop|207|\n",
      "|      porsche|convertible|207|\n",
      "|      porsche|    hardtop|207|\n",
      "|       nissan|  hatchback|200|\n",
      "|mercedes-benz|      sedan|184|\n",
      "|mercedes-benz|    hardtop|184|\n",
      "|          bmw|      sedan|182|\n",
      "|          bmw|      sedan|182|\n",
      "|          bmw|      sedan|182|\n",
      "|       jaguar|      sedan|176|\n",
      "|       jaguar|      sedan|176|\n",
      "|      mercury|  hatchback|175|\n",
      "|        volvo|      wagon|162|\n",
      "|        volvo|      sedan|162|\n",
      "|       toyota|  hatchback|161|\n",
      "|       toyota|  hatchback|161|\n",
      "|         saab|      sedan|160|\n",
      "|       nissan|  hatchback|160|\n",
      "|         saab|  hatchback|160|\n",
      "+-------------+-----------+---+\n",
      "only showing top 20 rows\n",
      "\n"
     ]
    }
   ],
   "source": [
    "linhasDF.select('*').orderBy('make', 'hp').sort(linhasDF.hp.desc()).show()"
   ]
  },
  {
   "cell_type": "code",
   "execution_count": 35,
   "metadata": {
    "ExecuteTime": {
     "end_time": "2022-04-17T13:07:56.137467Z",
     "start_time": "2022-04-17T13:07:56.006869Z"
    }
   },
   "outputs": [],
   "source": [
    "# Registrando o dataframe como uma Temp Table\n",
    "linhasDF.createOrReplaceTempView(\"linhasTB\")"
   ]
  },
  {
   "cell_type": "markdown",
   "metadata": {},
   "source": [
    "- Tabelas temporárias são necessárias caso eu queira executar query direto do Spark como no exemplo abaixo."
   ]
  },
  {
   "cell_type": "code",
   "execution_count": 36,
   "metadata": {
    "ExecuteTime": {
     "end_time": "2022-04-17T13:08:03.666586Z",
     "start_time": "2022-04-17T13:08:03.497933Z"
    }
   },
   "outputs": [
    {
     "name": "stdout",
     "output_type": "stream",
     "text": [
      "+------+---------+---+\n",
      "|  make|     body| hp|\n",
      "+------+---------+---+\n",
      "|nissan|    sedan| 69|\n",
      "|nissan|    sedan| 69|\n",
      "|nissan|    sedan| 69|\n",
      "|nissan|    sedan| 55|\n",
      "|nissan|    sedan| 69|\n",
      "|nissan|    wagon| 69|\n",
      "|nissan|    sedan| 69|\n",
      "|nissan|hatchback| 69|\n",
      "|nissan|    wagon| 69|\n",
      "|nissan|  hardtop| 69|\n",
      "|nissan|hatchback| 97|\n",
      "|nissan|    sedan| 97|\n",
      "|nissan|    sedan|152|\n",
      "|nissan|    sedan|152|\n",
      "|nissan|    wagon|152|\n",
      "|nissan|hatchback|160|\n",
      "|nissan|hatchback|160|\n",
      "|nissan|hatchback|200|\n",
      "+------+---------+---+\n",
      "\n"
     ]
    }
   ],
   "source": [
    "# Executando queries SQL ANSI\n",
    "spSession.sql(\"select * from linhasTB where make = 'nissan'\").show()"
   ]
  },
  {
   "cell_type": "code",
   "execution_count": 37,
   "metadata": {
    "ExecuteTime": {
     "end_time": "2022-04-17T13:08:08.791672Z",
     "start_time": "2022-04-17T13:08:08.017933Z"
    }
   },
   "outputs": [
    {
     "name": "stdout",
     "output_type": "stream",
     "text": [
      "+-------------+-----------+-----------------+\n",
      "|         make|       body|          avg(hp)|\n",
      "+-------------+-----------+-----------------+\n",
      "|       nissan|      wagon|96.66666666666667|\n",
      "|       subaru|      sedan|             90.2|\n",
      "|     plymouth|      sedan|             68.0|\n",
      "|        dodge|  hatchback|             90.2|\n",
      "|       nissan|      sedan|             89.0|\n",
      "|        honda|      sedan|             89.8|\n",
      "|   mitsubishi|  hatchback|            105.0|\n",
      "|        mazda|      sedan|82.66666666666667|\n",
      "|  alfa-romero|convertible|            111.0|\n",
      "|mercedes-benz|convertible|            155.0|\n",
      "|     plymouth|      wagon|             88.0|\n",
      "|mercedes-benz|      wagon|            123.0|\n",
      "|        isuzu|  hatchback|             90.0|\n",
      "|       toyota|convertible|            116.0|\n",
      "|        mazda|  hatchback|             89.4|\n",
      "|    chevrolet|      sedan|             70.0|\n",
      "|      mercury|  hatchback|            175.0|\n",
      "|      porsche|  hatchback|            143.0|\n",
      "|        honda|      wagon|             76.0|\n",
      "|      porsche|convertible|            207.0|\n",
      "+-------------+-----------+-----------------+\n",
      "only showing top 20 rows\n",
      "\n"
     ]
    }
   ],
   "source": [
    "# Executando queries SQL ANSI\n",
    "spSession.sql(\"select make, body, avg(hp) from linhasTB group by make, body\").show()"
   ]
  },
  {
   "cell_type": "markdown",
   "metadata": {},
   "source": [
    "## Spark SQL e Arquivos CSV"
   ]
  },
  {
   "cell_type": "code",
   "execution_count": 39,
   "metadata": {
    "ExecuteTime": {
     "end_time": "2022-04-17T13:16:26.036821Z",
     "start_time": "2022-04-17T13:16:25.611544Z"
    }
   },
   "outputs": [],
   "source": [
    "carrosDF = spSession.read.csv(\"data/carros.csv\", header = True)"
   ]
  },
  {
   "cell_type": "code",
   "execution_count": 40,
   "metadata": {
    "ExecuteTime": {
     "end_time": "2022-04-17T13:16:26.805615Z",
     "start_time": "2022-04-17T13:16:26.791178Z"
    }
   },
   "outputs": [
    {
     "data": {
      "text/plain": [
       "pyspark.sql.dataframe.DataFrame"
      ]
     },
     "execution_count": 40,
     "metadata": {},
     "output_type": "execute_result"
    }
   ],
   "source": [
    "type(carrosDF)"
   ]
  },
  {
   "cell_type": "code",
   "execution_count": 41,
   "metadata": {
    "ExecuteTime": {
     "end_time": "2022-04-17T13:16:32.681205Z",
     "start_time": "2022-04-17T13:16:32.550999Z"
    }
   },
   "outputs": [
    {
     "name": "stdout",
     "output_type": "stream",
     "text": [
      "+----------+--------+------+-----+---------+-----+---------+---+----+--------+-------+-----+\n",
      "|      MAKE|FUELTYPE|ASPIRE|DOORS|     BODY|DRIVE|CYLINDERS| HP| RPM|MPG-CITY|MPG-HWY|PRICE|\n",
      "+----------+--------+------+-----+---------+-----+---------+---+----+--------+-------+-----+\n",
      "|    subaru|     gas|   std|  two|hatchback|  fwd|     four| 69|4900|      31|     36| 5118|\n",
      "| chevrolet|     gas|   std|  two|hatchback|  fwd|    three| 48|5100|      47|     53| 5151|\n",
      "|     mazda|     gas|   std|  two|hatchback|  fwd|     four| 68|5000|      30|     31| 5195|\n",
      "|    toyota|     gas|   std|  two|hatchback|  fwd|     four| 62|4800|      35|     39| 5348|\n",
      "|mitsubishi|     gas|   std|  two|hatchback|  fwd|     four| 68|5500|      37|     41| 5389|\n",
      "|     honda|     gas|   std|  two|hatchback|  fwd|     four| 60|5500|      38|     42| 5399|\n",
      "|    nissan|     gas|   std|  two|    sedan|  fwd|     four| 69|5200|      31|     37| 5499|\n",
      "|     dodge|     gas|   std|  two|hatchback|  fwd|     four| 68|5500|      37|     41| 5572|\n",
      "|  plymouth|     gas|   std|  two|hatchback|  fwd|     four| 68|5500|      37|     41| 5572|\n",
      "|     mazda|     gas|   std|  two|hatchback|  fwd|     four| 68|5000|      31|     38| 6095|\n",
      "|mitsubishi|     gas|   std|  two|hatchback|  fwd|     four| 68|5500|      31|     38| 6189|\n",
      "|     dodge|     gas|   std| four|hatchback|  fwd|     four| 68|5500|      31|     38| 6229|\n",
      "|  plymouth|     gas|   std| four|hatchback|  fwd|     four| 68|5500|      31|     38| 6229|\n",
      "| chevrolet|     gas|   std|  two|hatchback|  fwd|     four| 70|5400|      38|     43| 6295|\n",
      "|    toyota|     gas|   std|  two|hatchback|  fwd|     four| 62|4800|      31|     38| 6338|\n",
      "|     dodge|     gas|   std|  two|hatchback|  fwd|     four| 68|5500|      31|     38| 6377|\n",
      "|     honda|     gas|   std|  two|hatchback|  fwd|     four| 58|4800|      49|     54| 6479|\n",
      "|    toyota|     gas|   std| four|hatchback|  fwd|     four| 62|4800|      31|     38| 6488|\n",
      "|     honda|     gas|   std|  two|hatchback|  fwd|     four| 76|6000|      30|     34| 6529|\n",
      "| chevrolet|     gas|   std| four|    sedan|  fwd|     four| 70|5400|      38|     43| 6575|\n",
      "+----------+--------+------+-----+---------+-----+---------+---+----+--------+-------+-----+\n",
      "only showing top 20 rows\n",
      "\n"
     ]
    }
   ],
   "source": [
    "carrosDF.show()"
   ]
  },
  {
   "cell_type": "code",
   "execution_count": 42,
   "metadata": {
    "ExecuteTime": {
     "end_time": "2022-04-17T13:16:40.696293Z",
     "start_time": "2022-04-17T13:16:40.679716Z"
    }
   },
   "outputs": [],
   "source": [
    "# Registrando o dataframe como uma Temp Table\n",
    "carrosDF.createOrReplaceTempView(\"carrosTB\")"
   ]
  },
  {
   "cell_type": "code",
   "execution_count": 43,
   "metadata": {
    "ExecuteTime": {
     "end_time": "2022-04-17T13:17:00.356500Z",
     "start_time": "2022-04-17T13:17:00.239718Z"
    }
   },
   "outputs": [
    {
     "name": "stdout",
     "output_type": "stream",
     "text": [
      "+---------+---+-----+\n",
      "|     make| hp|price|\n",
      "+---------+---+-----+\n",
      "|chevrolet| 48| 5151|\n",
      "+---------+---+-----+\n",
      "\n"
     ]
    }
   ],
   "source": [
    "# Executando queries SQL ANSI\n",
    "spSession.sql(\"select make, hp, price from carrosTB where CYLINDERS = 'three'\").show()"
   ]
  },
  {
   "cell_type": "code",
   "execution_count": 47,
   "metadata": {
    "ExecuteTime": {
     "end_time": "2022-04-17T13:17:31.034076Z",
     "start_time": "2022-04-17T13:17:30.931405Z"
    }
   },
   "outputs": [
    {
     "name": "stdout",
     "output_type": "stream",
     "text": [
      "+-----------+---+-----+\n",
      "|       make| hp|price|\n",
      "+-----------+---+-----+\n",
      "|     nissan|152|13499|\n",
      "|     nissan|152|13499|\n",
      "|     nissan|152|14399|\n",
      "|     toyota|156|15690|\n",
      "|     toyota|156|15750|\n",
      "|     toyota|161|15998|\n",
      "|alfa-romero|154|16500|\n",
      "|     toyota|161|16558|\n",
      "|     nissan|160|17199|\n",
      "|     nissan|160|18399|\n",
      "|     nissan|200|19699|\n",
      "|        bmw|121|20970|\n",
      "|        bmw|121|21105|\n",
      "|      volvo|134|21485|\n",
      "|      volvo|106|22470|\n",
      "|        bmw|121|24565|\n",
      "|        bmw|182|30760|\n",
      "|     jaguar|176|32250|\n",
      "|    porsche|207|32528|\n",
      "|    porsche|207|34028|\n",
      "+-----------+---+-----+\n",
      "only showing top 20 rows\n",
      "\n"
     ]
    }
   ],
   "source": [
    "# Executando queries SQL ANSI\n",
    "spSession.sql(\"select make, hp, price from carrosTB where CYLINDERS = 'six'\").show()"
   ]
  },
  {
   "cell_type": "code",
   "execution_count": 48,
   "metadata": {
    "ExecuteTime": {
     "end_time": "2022-04-17T13:19:15.672730Z",
     "start_time": "2022-04-17T13:19:15.652518Z"
    }
   },
   "outputs": [],
   "source": [
    "carrosTT = spSession.sql(\"select make, hp, price from carrosTB where CYLINDERS = 'three'\")"
   ]
  },
  {
   "cell_type": "code",
   "execution_count": 49,
   "metadata": {
    "ExecuteTime": {
     "end_time": "2022-04-17T13:19:16.779922Z",
     "start_time": "2022-04-17T13:19:16.701478Z"
    }
   },
   "outputs": [
    {
     "name": "stdout",
     "output_type": "stream",
     "text": [
      "+---------+---+-----+\n",
      "|     make| hp|price|\n",
      "+---------+---+-----+\n",
      "|chevrolet| 48| 5151|\n",
      "+---------+---+-----+\n",
      "\n"
     ]
    }
   ],
   "source": [
    "carrosTT.show()"
   ]
  },
  {
   "cell_type": "code",
   "execution_count": 50,
   "metadata": {
    "ExecuteTime": {
     "end_time": "2022-04-17T13:19:25.421742Z",
     "start_time": "2022-04-17T13:19:25.413271Z"
    }
   },
   "outputs": [
    {
     "data": {
      "text/plain": [
       "pyspark.sql.dataframe.DataFrame"
      ]
     },
     "execution_count": 50,
     "metadata": {},
     "output_type": "execute_result"
    }
   ],
   "source": [
    "type(carrosTT)"
   ]
  },
  {
   "cell_type": "markdown",
   "metadata": {},
   "source": [
    "## Aplicando Machine Learning"
   ]
  },
  {
   "cell_type": "code",
   "execution_count": 51,
   "metadata": {
    "ExecuteTime": {
     "end_time": "2022-04-17T13:43:58.164088Z",
     "start_time": "2022-04-17T13:43:58.123736Z"
    }
   },
   "outputs": [
    {
     "data": {
      "text/plain": [
       "data/carros.csv MapPartitionsRDD[84] at textFile at NativeMethodAccessorImpl.java:0"
      ]
     },
     "execution_count": 51,
     "metadata": {},
     "output_type": "execute_result"
    }
   ],
   "source": [
    "# Carregando o arquivo CSV e mantendo o objeto em cache\n",
    "carros = sc.textFile(\"data/carros.csv\")\n",
    "carros.cache()"
   ]
  },
  {
   "cell_type": "code",
   "execution_count": 53,
   "metadata": {
    "ExecuteTime": {
     "end_time": "2022-04-17T13:44:33.920701Z",
     "start_time": "2022-04-17T13:44:33.839751Z"
    }
   },
   "outputs": [
    {
     "data": {
      "text/plain": [
       "197"
      ]
     },
     "execution_count": 53,
     "metadata": {},
     "output_type": "execute_result"
    }
   ],
   "source": [
    "# Remove a primeira linha (header)\n",
    "primeiraLinha = carros.first()\n",
    "linhas = carros.filter(lambda x: x != primeiraLinha)\n",
    "linhas.count()"
   ]
  },
  {
   "cell_type": "code",
   "execution_count": 52,
   "metadata": {
    "ExecuteTime": {
     "end_time": "2022-04-17T13:44:31.373216Z",
     "start_time": "2022-04-17T13:44:31.169990Z"
    }
   },
   "outputs": [
    {
     "data": {
      "text/plain": [
       "198"
      ]
     },
     "execution_count": 52,
     "metadata": {},
     "output_type": "execute_result"
    }
   ],
   "source": [
    "carros.count()"
   ]
  },
  {
   "cell_type": "code",
   "execution_count": 61,
   "metadata": {
    "ExecuteTime": {
     "end_time": "2022-04-17T13:55:17.644729Z",
     "start_time": "2022-04-17T13:55:17.628211Z"
    }
   },
   "outputs": [
    {
     "data": {
      "text/plain": [
       "['MAKE,FUELTYPE,ASPIRE,DOORS,BODY,DRIVE,CYLINDERS,HP,RPM,MPG-CITY,MPG-HWY,PRICE',\n",
       " 'subaru,gas,std,two,hatchback,fwd,four,69,4900,31,36,5118',\n",
       " 'chevrolet,gas,std,two,hatchback,fwd,three,48,5100,47,53,5151',\n",
       " 'mazda,gas,std,two,hatchback,fwd,four,68,5000,30,31,5195',\n",
       " 'toyota,gas,std,two,hatchback,fwd,four,62,4800,35,39,5348',\n",
       " 'mitsubishi,gas,std,two,hatchback,fwd,four,68,5500,37,41,5389',\n",
       " 'honda,gas,std,two,hatchback,fwd,four,60,5500,38,42,5399',\n",
       " 'nissan,gas,std,two,sedan,fwd,four,69,5200,31,37,5499',\n",
       " 'dodge,gas,std,two,hatchback,fwd,four,68,5500,37,41,5572',\n",
       " 'plymouth,gas,std,two,hatchback,fwd,four,68,5500,37,41,5572',\n",
       " 'mazda,gas,std,two,hatchback,fwd,four,68,5000,31,38,6095',\n",
       " 'mitsubishi,gas,std,two,hatchback,fwd,four,68,5500,31,38,6189',\n",
       " 'dodge,gas,std,four,hatchback,fwd,four,68,5500,31,38,6229',\n",
       " 'plymouth,gas,std,four,hatchback,fwd,four,68,5500,31,38,6229',\n",
       " 'chevrolet,gas,std,two,hatchback,fwd,four,70,5400,38,43,6295',\n",
       " 'toyota,gas,std,two,hatchback,fwd,four,62,4800,31,38,6338',\n",
       " 'dodge,gas,std,two,hatchback,fwd,four,68,5500,31,38,6377',\n",
       " 'honda,gas,std,two,hatchback,fwd,four,58,4800,49,54,6479',\n",
       " 'toyota,gas,std,four,hatchback,fwd,four,62,4800,31,38,6488',\n",
       " 'honda,gas,std,two,hatchback,fwd,four,76,6000,30,34,6529',\n",
       " 'chevrolet,gas,std,four,sedan,fwd,four,70,5400,38,43,6575',\n",
       " 'nissan,gas,std,two,sedan,fwd,four,69,5200,31,37,6649',\n",
       " 'mitsubishi,gas,std,two,hatchback,fwd,four,68,5500,31,38,6669',\n",
       " 'dodge,gas,std,four,sedan,fwd,four,68,5500,31,38,6692',\n",
       " 'plymouth,gas,std,four,sedan,fwd,four,68,5500,31,38,6692',\n",
       " 'mazda,gas,std,four,sedan,fwd,four,68,5000,31,38,6695',\n",
       " 'isuzu,gas,std,four,sedan,rwd,four,78,4800,24,29,6785',\n",
       " 'mazda,gas,std,two,hatchback,fwd,four,68,5000,31,38,6795',\n",
       " 'nissan,gas,std,four,sedan,fwd,four,69,5200,31,37,6849',\n",
       " 'honda,gas,std,two,hatchback,fwd,four,76,6000,31,38,6855',\n",
       " 'toyota,gas,std,four,wagon,fwd,four,62,4800,31,37,6918',\n",
       " 'toyota,gas,std,four,sedan,fwd,four,70,4800,30,37,6938',\n",
       " 'mitsubishi,gas,std,four,sedan,fwd,four,88,5000,25,32,6989',\n",
       " 'subaru,gas,std,two,hatchback,fwd,four,73,4400,26,31,7053',\n",
       " 'nissan,diesel,std,two,sedan,fwd,four,55,4800,45,50,7099',\n",
       " 'subaru,gas,std,four,sedan,fwd,four,82,4800,32,37,7126',\n",
       " 'honda,gas,std,two,hatchback,fwd,four,76,6000,30,34,7129',\n",
       " 'toyota,gas,std,four,hatchback,fwd,four,70,4800,30,37,7198',\n",
       " 'honda,gas,std,four,sedan,fwd,four,76,6000,30,34,7295',\n",
       " 'honda,gas,std,four,wagon,fwd,four,76,6000,30,34,7295',\n",
       " 'nissan,gas,std,two,sedan,fwd,four,69,5200,31,37,7299',\n",
       " 'nissan,gas,std,four,wagon,fwd,four,69,5200,31,37,7349',\n",
       " 'mazda,gas,std,four,sedan,fwd,four,68,5000,31,38,7395',\n",
       " 'subaru,gas,std,four,wagon,fwd,four,82,4800,28,32,7463',\n",
       " 'nissan,gas,std,four,sedan,fwd,four,69,5200,31,37,7499',\n",
       " 'subaru,gas,std,two,hatchback,4wd,four,73,4400,26,31,7603',\n",
       " 'dodge,gas,std,four,sedan,fwd,four,68,5500,31,38,7609',\n",
       " 'plymouth,gas,std,four,sedan,fwd,four,68,5500,31,38,7609',\n",
       " 'mitsubishi,gas,turbo,two,hatchback,fwd,four,102,5500,24,30,7689',\n",
       " 'toyota,gas,std,four,sedan,fwd,four,70,4800,38,47,7738',\n",
       " 'subaru,gas,std,four,sedan,fwd,four,82,4400,28,33,7775',\n",
       " 'volkswagen,diesel,std,two,sedan,fwd,four,52,4800,37,46,7775',\n",
       " 'toyota,diesel,std,four,hatchback,fwd,four,56,4500,38,47,7788',\n",
       " 'nissan,gas,std,two,hatchback,fwd,four,69,5200,31,37,7799',\n",
       " 'honda,gas,std,two,hatchback,fwd,four,86,5800,27,33,7895',\n",
       " 'toyota,gas,std,four,wagon,4wd,four,62,4800,27,32,7898',\n",
       " 'toyota,diesel,std,four,sedan,fwd,four,56,4500,34,36,7898',\n",
       " 'dodge,gas,turbo,two,hatchback,fwd,four,102,5500,24,30,7957',\n",
       " 'plymouth,gas,turbo,two,hatchback,fwd,four,102,5500,24,30,7957',\n",
       " 'volkswagen,gas,std,two,sedan,fwd,four,85,5250,27,34,7975',\n",
       " 'volkswagen,diesel,std,four,sedan,fwd,four,52,4800,37,46,7995',\n",
       " 'nissan,gas,std,four,wagon,fwd,four,69,5200,31,37,7999',\n",
       " 'subaru,gas,std,four,wagon,4wd,four,82,4800,23,29,8013',\n",
       " 'toyota,gas,std,two,sedan,rwd,four,70,4800,29,34,8058',\n",
       " 'mitsubishi,gas,std,four,sedan,fwd,four,88,5000,25,32,8189',\n",
       " 'volkswagen,gas,std,four,sedan,fwd,four,85,5250,27,34,8195',\n",
       " 'toyota,gas,std,two,hatchback,rwd,four,70,4800,29,34,8238',\n",
       " 'nissan,gas,std,two,hardtop,fwd,four,69,5200,31,37,8249',\n",
       " 'toyota,gas,std,four,hatchback,fwd,four,70,4800,28,34,8358',\n",
       " 'toyota,gas,std,two,hardtop,rwd,four,116,4800,24,30,8449',\n",
       " 'mazda,gas,std,four,sedan,fwd,four,84,4800,26,32,8495',\n",
       " 'volkswagen,gas,std,four,sedan,fwd,four,85,5250,27,34,8495',\n",
       " 'mitsubishi,gas,std,two,hatchback,fwd,four,88,5000,25,32,8499',\n",
       " 'toyota,gas,std,four,wagon,4wd,four,62,4800,27,32,8778',\n",
       " 'honda,gas,std,four,sedan,fwd,four,86,5800,27,33,8845',\n",
       " 'mazda,gas,std,two,hatchback,fwd,four,84,4800,26,32,8845',\n",
       " 'dodge,gas,std,four,wagon,fwd,four,88,5000,24,30,8921',\n",
       " 'plymouth,gas,std,four,wagon,fwd,four,88,5000,24,30,8921',\n",
       " 'toyota,gas,std,four,sedan,fwd,four,92,4200,29,34,8948',\n",
       " 'nissan,gas,std,four,hatchback,fwd,four,97,5200,27,34,8949',\n",
       " 'honda,gas,std,two,hatchback,fwd,four,86,5800,27,33,9095',\n",
       " 'subaru,gas,std,four,sedan,4wd,four,82,4800,24,25,9233',\n",
       " 'toyota,gas,std,four,sedan,fwd,four,70,4800,28,34,9258',\n",
       " 'mitsubishi,gas,turbo,four,sedan,fwd,four,116,5500,23,30,9279',\n",
       " 'mitsubishi,gas,std,four,sedan,fwd,four,116,5500,23,30,9279',\n",
       " 'toyota,gas,std,two,sedan,rwd,four,112,6600,26,29,9298',\n",
       " 'volkswagen,diesel,turbo,four,sedan,fwd,four,68,4500,37,42,9495',\n",
       " 'toyota,gas,std,two,hatchback,rwd,four,112,6600,26,29,9538',\n",
       " 'nissan,gas,std,four,sedan,fwd,four,97,5200,27,34,9549',\n",
       " 'toyota,gas,std,two,hardtop,rwd,four,116,4800,24,30,9639',\n",
       " 'mitsubishi,gas,turbo,two,hatchback,fwd,four,116,5500,23,30,9959',\n",
       " 'subaru,gas,std,four,sedan,fwd,four,94,5200,26,32,9960',\n",
       " 'volkswagen,gas,std,two,hatchback,fwd,four,90,5500,24,29,9980',\n",
       " 'toyota,gas,std,four,hatchback,fwd,four,92,4200,27,32,9988',\n",
       " 'toyota,gas,std,two,hatchback,rwd,four,116,4800,24,30,9989',\n",
       " 'volkswagen,gas,std,four,sedan,fwd,four,100,5500,26,32,9995',\n",
       " 'subaru,gas,std,four,wagon,fwd,four,94,5200,25,31,10198',\n",
       " 'mazda,gas,std,four,sedan,fwd,four,84,4800,26,32,10245',\n",
       " 'honda,gas,std,four,sedan,fwd,four,86,5800,27,33,10295',\n",
       " 'honda,gas,std,two,sedan,fwd,four,100,5500,25,31,10345',\n",
       " 'mazda,gas,std,two,hatchback,fwd,four,84,4800,26,32,10595',\n",
       " 'toyota,diesel,turbo,four,sedan,fwd,four,73,4500,30,33,10698',\n",
       " 'toyota,gas,std,four,sedan,fwd,four,92,4200,27,32,10898',\n",
       " 'mazda,gas,std,two,hatchback,rwd,two,101,6000,17,23,10945',\n",
       " 'isuzu,gas,std,two,hatchback,rwd,four,90,5000,24,29,11048',\n",
       " 'toyota,gas,std,two,hardtop,rwd,four,116,4800,24,30,11199',\n",
       " 'mazda,gas,std,four,hatchback,fwd,four,84,4800,26,32,11245',\n",
       " 'toyota,gas,std,four,hatchback,fwd,four,92,4200,27,32,11248',\n",
       " 'subaru,gas,turbo,four,sedan,4wd,four,111,4800,24,29,11259',\n",
       " 'toyota,gas,std,two,hatchback,rwd,four,116,4800,24,30,11549',\n",
       " 'volkswagen,gas,std,two,convertible,fwd,four,90,5500,24,29,11595',\n",
       " 'subaru,gas,turbo,four,wagon,4wd,four,111,4800,23,23,11694',\n",
       " 'mazda,gas,std,two,hatchback,rwd,two,101,6000,17,23,11845',\n",
       " 'saab,gas,std,two,hatchback,fwd,four,110,5250,21,28,11850',\n",
       " 'peugot,gas,std,four,sedan,rwd,four,97,5000,19,24,11900',\n",
       " 'saab,gas,std,four,sedan,fwd,four,110,5250,21,28,12170',\n",
       " 'volkswagen,gas,std,four,wagon,fwd,four,88,5500,25,31,12290',\n",
       " 'peugot,gas,std,four,wagon,rwd,four,97,5000,19,24,12440',\n",
       " 'mitsubishi,gas,turbo,two,hatchback,fwd,four,145,5000,19,24,12629',\n",
       " 'plymouth,gas,turbo,two,hatchback,rwd,four,145,5000,19,24,12764',\n",
       " 'volvo,gas,std,four,sedan,rwd,four,114,5400,23,28,12940',\n",
       " 'honda,gas,std,four,sedan,fwd,four,101,5800,24,28,12945',\n",
       " 'dodge,gas,turbo,two,hatchback,fwd,four,145,5000,19,24,12964',\n",
       " 'peugot,diesel,turbo,four,sedan,rwd,four,95,4150,28,33,13200',\n",
       " 'volkswagen,gas,std,four,sedan,fwd,five,110,5500,19,24,13295',\n",
       " 'volvo,gas,std,four,wagon,rwd,four,114,5400,23,28,13415',\n",
       " 'alfa-romero,gas,std,two,convertible,rwd,four,111,5000,21,27,13495',\n",
       " 'nissan,gas,std,four,sedan,fwd,six,152,5200,17,22,13499',\n",
       " 'nissan,gas,std,four,sedan,fwd,six,152,5200,19,25,13499',\n",
       " 'mazda,gas,std,two,hatchback,rwd,two,101,6000,17,23,13645',\n",
       " 'volkswagen,diesel,turbo,four,sedan,fwd,four,68,4500,33,38,13845',\n",
       " 'peugot,diesel,turbo,four,wagon,rwd,four,95,4150,25,25,13860',\n",
       " 'audi,gas,std,four,sedan,fwd,four,102,5500,24,30,13950',\n",
       " 'nissan,gas,std,four,wagon,fwd,six,152,5200,17,22,14399',\n",
       " 'mitsubishi,gas,turbo,two,hatchback,fwd,four,145,5000,19,24,14489',\n",
       " 'mitsubishi,gas,turbo,two,hatchback,fwd,four,145,5000,19,24,14869',\n",
       " 'saab,gas,std,two,hatchback,fwd,four,110,5250,21,28,15040',\n",
       " 'audi,gas,std,two,sedan,fwd,five,110,5500,19,25,15250',\n",
       " 'saab,gas,std,four,sedan,fwd,four,110,5250,21,28,15510',\n",
       " 'peugot,gas,std,four,sedan,rwd,four,95,5000,19,24,15580',\n",
       " 'mazda,gas,std,two,hatchback,rwd,two,135,6000,16,23,15645',\n",
       " 'toyota,gas,std,four,sedan,rwd,six,156,5200,20,24,15690',\n",
       " 'toyota,gas,std,four,wagon,rwd,six,156,5200,19,24,15750',\n",
       " 'volvo,gas,std,four,sedan,rwd,four,114,5400,24,28,15985',\n",
       " 'toyota,gas,std,two,hatchback,rwd,six,161,5200,19,24,15998',\n",
       " 'bmw,gas,std,two,sedan,rwd,four,101,5800,23,29,16430',\n",
       " 'alfa-romero,gas,std,two,convertible,rwd,four,111,5000,21,27,16500',\n",
       " 'alfa-romero,gas,std,two,hatchback,rwd,six,154,5000,19,26,16500',\n",
       " 'mercury,gas,turbo,two,hatchback,rwd,four,175,5000,19,24,16503',\n",
       " 'volvo,gas,std,four,wagon,rwd,four,114,5400,24,28,16515',\n",
       " 'toyota,gas,std,two,hatchback,rwd,six,161,5200,20,24,16558',\n",
       " 'peugot,gas,std,four,sedan,rwd,four,97,5000,19,24,16630',\n",
       " 'peugot,gas,std,four,wagon,rwd,four,95,5000,19,24,16695',\n",
       " 'volvo,gas,std,four,sedan,rwd,four,114,5400,23,28,16845',\n",
       " 'peugot,diesel,turbo,four,sedan,rwd,four,95,4150,28,33,16900',\n",
       " 'bmw,gas,std,four,sedan,rwd,four,101,5800,23,29,16925',\n",
       " 'peugot,diesel,turbo,four,wagon,rwd,four,95,4150,25,25,17075',\n",
       " 'nissan,gas,std,two,hatchback,rwd,six,160,5200,19,25,17199',\n",
       " 'audi,gas,std,four,sedan,4wd,five,115,5500,18,22,17450',\n",
       " 'toyota,gas,std,two,convertible,rwd,four,116,4800,24,30,17669',\n",
       " 'audi,gas,std,four,sedan,fwd,five,110,5500,19,25,17710',\n",
       " 'peugot,diesel,turbo,four,sedan,rwd,four,95,4150,28,33,17950',\n",
       " 'peugot,gas,turbo,four,sedan,rwd,four,142,5600,18,24,18150',\n",
       " 'saab,gas,turbo,two,hatchback,fwd,four,160,5500,19,26,18150',\n",
       " 'mazda,gas,std,four,sedan,rwd,four,120,5000,19,27,18280',\n",
       " 'mazda,diesel,std,four,sedan,rwd,four,72,4200,31,39,18344',\n",
       " 'nissan,gas,std,two,hatchback,rwd,six,160,5200,19,25,18399',\n",
       " 'volvo,gas,turbo,four,sedan,rwd,four,162,5100,17,22,18420',\n",
       " 'saab,gas,turbo,four,sedan,fwd,four,160,5500,19,26,18620',\n",
       " 'audi,gas,std,four,wagon,fwd,five,110,5500,19,25,18920',\n",
       " 'volvo,gas,turbo,four,wagon,rwd,four,162,5100,17,22,18950',\n",
       " 'volvo,gas,turbo,four,sedan,rwd,four,160,5300,19,25,19045',\n",
       " 'nissan,gas,turbo,two,hatchback,rwd,six,200,5200,17,23,19699',\n",
       " 'bmw,gas,std,two,sedan,rwd,six,121,4250,21,28,20970',\n",
       " 'bmw,gas,std,four,sedan,rwd,six,121,4250,21,28,21105',\n",
       " 'volvo,gas,std,four,sedan,rwd,six,134,5500,18,23,21485',\n",
       " 'porsche,gas,std,two,hatchback,rwd,four,143,5500,19,27,22018',\n",
       " 'volvo,diesel,turbo,four,sedan,rwd,six,106,4800,26,27,22470',\n",
       " 'volvo,gas,turbo,four,sedan,rwd,four,114,5400,19,25,22625',\n",
       " 'audi,gas,turbo,four,sedan,fwd,five,140,5500,17,20,23875',\n",
       " 'bmw,gas,std,four,sedan,rwd,six,121,4250,20,25,24565',\n",
       " 'mercedes-benz,diesel,turbo,four,sedan,rwd,five,123,4350,22,25,25552',\n",
       " 'mercedes-benz,diesel,turbo,two,hardtop,rwd,five,123,4350,22,25,28176',\n",
       " 'mercedes-benz,diesel,turbo,four,wagon,rwd,five,123,4350,22,25,28248',\n",
       " 'bmw,gas,std,four,sedan,rwd,six,182,5400,16,22,30760',\n",
       " 'mercedes-benz,diesel,turbo,four,sedan,rwd,five,123,4350,22,25,31600',\n",
       " 'jaguar,gas,std,four,sedan,rwd,six,176,4750,15,19,32250',\n",
       " 'porsche,gas,std,two,hardtop,rwd,six,207,5900,17,25,32528',\n",
       " 'porsche,gas,std,two,hardtop,rwd,six,207,5900,17,25,34028',\n",
       " 'mercedes-benz,gas,std,four,sedan,rwd,eight,155,4750,16,18,34184',\n",
       " 'mercedes-benz,gas,std,two,convertible,rwd,eight,155,4750,16,18,35056',\n",
       " 'jaguar,gas,std,four,sedan,rwd,six,176,4750,15,19,35550',\n",
       " 'jaguar,gas,std,two,sedan,rwd,twelve,262,5000,13,17,36000',\n",
       " 'bmw,gas,std,four,sedan,rwd,six,182,5400,15,20,36880',\n",
       " 'porsche,gas,std,two,convertible,rwd,six,207,5900,17,25,37028',\n",
       " 'mercedes-benz,gas,std,four,sedan,rwd,eight,184,4500,14,16,40960',\n",
       " 'bmw,gas,std,two,sedan,rwd,six,182,5400,16,22,41315',\n",
       " 'mercedes-benz,gas,std,two,hardtop,rwd,eight,184,4500,14,16,45400']"
      ]
     },
     "execution_count": 61,
     "metadata": {},
     "output_type": "execute_result"
    }
   ],
   "source": [
    "carros.collect()"
   ]
  },
  {
   "cell_type": "code",
   "execution_count": 60,
   "metadata": {
    "ExecuteTime": {
     "end_time": "2022-04-17T13:54:56.268171Z",
     "start_time": "2022-04-17T13:54:56.231828Z"
    }
   },
   "outputs": [
    {
     "data": {
      "text/plain": [
       "['subaru,gas,std,two,hatchback,fwd,four,69,4900,31,36,5118',\n",
       " 'chevrolet,gas,std,two,hatchback,fwd,three,48,5100,47,53,5151',\n",
       " 'mazda,gas,std,two,hatchback,fwd,four,68,5000,30,31,5195',\n",
       " 'toyota,gas,std,two,hatchback,fwd,four,62,4800,35,39,5348',\n",
       " 'mitsubishi,gas,std,two,hatchback,fwd,four,68,5500,37,41,5389',\n",
       " 'honda,gas,std,two,hatchback,fwd,four,60,5500,38,42,5399',\n",
       " 'nissan,gas,std,two,sedan,fwd,four,69,5200,31,37,5499',\n",
       " 'dodge,gas,std,two,hatchback,fwd,four,68,5500,37,41,5572',\n",
       " 'plymouth,gas,std,two,hatchback,fwd,four,68,5500,37,41,5572',\n",
       " 'mazda,gas,std,two,hatchback,fwd,four,68,5000,31,38,6095',\n",
       " 'mitsubishi,gas,std,two,hatchback,fwd,four,68,5500,31,38,6189',\n",
       " 'dodge,gas,std,four,hatchback,fwd,four,68,5500,31,38,6229',\n",
       " 'plymouth,gas,std,four,hatchback,fwd,four,68,5500,31,38,6229',\n",
       " 'chevrolet,gas,std,two,hatchback,fwd,four,70,5400,38,43,6295',\n",
       " 'toyota,gas,std,two,hatchback,fwd,four,62,4800,31,38,6338',\n",
       " 'dodge,gas,std,two,hatchback,fwd,four,68,5500,31,38,6377',\n",
       " 'honda,gas,std,two,hatchback,fwd,four,58,4800,49,54,6479',\n",
       " 'toyota,gas,std,four,hatchback,fwd,four,62,4800,31,38,6488',\n",
       " 'honda,gas,std,two,hatchback,fwd,four,76,6000,30,34,6529',\n",
       " 'chevrolet,gas,std,four,sedan,fwd,four,70,5400,38,43,6575',\n",
       " 'nissan,gas,std,two,sedan,fwd,four,69,5200,31,37,6649',\n",
       " 'mitsubishi,gas,std,two,hatchback,fwd,four,68,5500,31,38,6669',\n",
       " 'dodge,gas,std,four,sedan,fwd,four,68,5500,31,38,6692',\n",
       " 'plymouth,gas,std,four,sedan,fwd,four,68,5500,31,38,6692',\n",
       " 'mazda,gas,std,four,sedan,fwd,four,68,5000,31,38,6695',\n",
       " 'isuzu,gas,std,four,sedan,rwd,four,78,4800,24,29,6785',\n",
       " 'mazda,gas,std,two,hatchback,fwd,four,68,5000,31,38,6795',\n",
       " 'nissan,gas,std,four,sedan,fwd,four,69,5200,31,37,6849',\n",
       " 'honda,gas,std,two,hatchback,fwd,four,76,6000,31,38,6855',\n",
       " 'toyota,gas,std,four,wagon,fwd,four,62,4800,31,37,6918',\n",
       " 'toyota,gas,std,four,sedan,fwd,four,70,4800,30,37,6938',\n",
       " 'mitsubishi,gas,std,four,sedan,fwd,four,88,5000,25,32,6989',\n",
       " 'subaru,gas,std,two,hatchback,fwd,four,73,4400,26,31,7053',\n",
       " 'nissan,diesel,std,two,sedan,fwd,four,55,4800,45,50,7099',\n",
       " 'subaru,gas,std,four,sedan,fwd,four,82,4800,32,37,7126',\n",
       " 'honda,gas,std,two,hatchback,fwd,four,76,6000,30,34,7129',\n",
       " 'toyota,gas,std,four,hatchback,fwd,four,70,4800,30,37,7198',\n",
       " 'honda,gas,std,four,sedan,fwd,four,76,6000,30,34,7295',\n",
       " 'honda,gas,std,four,wagon,fwd,four,76,6000,30,34,7295',\n",
       " 'nissan,gas,std,two,sedan,fwd,four,69,5200,31,37,7299',\n",
       " 'nissan,gas,std,four,wagon,fwd,four,69,5200,31,37,7349',\n",
       " 'mazda,gas,std,four,sedan,fwd,four,68,5000,31,38,7395',\n",
       " 'subaru,gas,std,four,wagon,fwd,four,82,4800,28,32,7463',\n",
       " 'nissan,gas,std,four,sedan,fwd,four,69,5200,31,37,7499',\n",
       " 'subaru,gas,std,two,hatchback,4wd,four,73,4400,26,31,7603',\n",
       " 'dodge,gas,std,four,sedan,fwd,four,68,5500,31,38,7609',\n",
       " 'plymouth,gas,std,four,sedan,fwd,four,68,5500,31,38,7609',\n",
       " 'mitsubishi,gas,turbo,two,hatchback,fwd,four,102,5500,24,30,7689',\n",
       " 'toyota,gas,std,four,sedan,fwd,four,70,4800,38,47,7738',\n",
       " 'subaru,gas,std,four,sedan,fwd,four,82,4400,28,33,7775',\n",
       " 'volkswagen,diesel,std,two,sedan,fwd,four,52,4800,37,46,7775',\n",
       " 'toyota,diesel,std,four,hatchback,fwd,four,56,4500,38,47,7788',\n",
       " 'nissan,gas,std,two,hatchback,fwd,four,69,5200,31,37,7799',\n",
       " 'honda,gas,std,two,hatchback,fwd,four,86,5800,27,33,7895',\n",
       " 'toyota,gas,std,four,wagon,4wd,four,62,4800,27,32,7898',\n",
       " 'toyota,diesel,std,four,sedan,fwd,four,56,4500,34,36,7898',\n",
       " 'dodge,gas,turbo,two,hatchback,fwd,four,102,5500,24,30,7957',\n",
       " 'plymouth,gas,turbo,two,hatchback,fwd,four,102,5500,24,30,7957',\n",
       " 'volkswagen,gas,std,two,sedan,fwd,four,85,5250,27,34,7975',\n",
       " 'volkswagen,diesel,std,four,sedan,fwd,four,52,4800,37,46,7995',\n",
       " 'nissan,gas,std,four,wagon,fwd,four,69,5200,31,37,7999',\n",
       " 'subaru,gas,std,four,wagon,4wd,four,82,4800,23,29,8013',\n",
       " 'toyota,gas,std,two,sedan,rwd,four,70,4800,29,34,8058',\n",
       " 'mitsubishi,gas,std,four,sedan,fwd,four,88,5000,25,32,8189',\n",
       " 'volkswagen,gas,std,four,sedan,fwd,four,85,5250,27,34,8195',\n",
       " 'toyota,gas,std,two,hatchback,rwd,four,70,4800,29,34,8238',\n",
       " 'nissan,gas,std,two,hardtop,fwd,four,69,5200,31,37,8249',\n",
       " 'toyota,gas,std,four,hatchback,fwd,four,70,4800,28,34,8358',\n",
       " 'toyota,gas,std,two,hardtop,rwd,four,116,4800,24,30,8449',\n",
       " 'mazda,gas,std,four,sedan,fwd,four,84,4800,26,32,8495',\n",
       " 'volkswagen,gas,std,four,sedan,fwd,four,85,5250,27,34,8495',\n",
       " 'mitsubishi,gas,std,two,hatchback,fwd,four,88,5000,25,32,8499',\n",
       " 'toyota,gas,std,four,wagon,4wd,four,62,4800,27,32,8778',\n",
       " 'honda,gas,std,four,sedan,fwd,four,86,5800,27,33,8845',\n",
       " 'mazda,gas,std,two,hatchback,fwd,four,84,4800,26,32,8845',\n",
       " 'dodge,gas,std,four,wagon,fwd,four,88,5000,24,30,8921',\n",
       " 'plymouth,gas,std,four,wagon,fwd,four,88,5000,24,30,8921',\n",
       " 'toyota,gas,std,four,sedan,fwd,four,92,4200,29,34,8948',\n",
       " 'nissan,gas,std,four,hatchback,fwd,four,97,5200,27,34,8949',\n",
       " 'honda,gas,std,two,hatchback,fwd,four,86,5800,27,33,9095',\n",
       " 'subaru,gas,std,four,sedan,4wd,four,82,4800,24,25,9233',\n",
       " 'toyota,gas,std,four,sedan,fwd,four,70,4800,28,34,9258',\n",
       " 'mitsubishi,gas,turbo,four,sedan,fwd,four,116,5500,23,30,9279',\n",
       " 'mitsubishi,gas,std,four,sedan,fwd,four,116,5500,23,30,9279',\n",
       " 'toyota,gas,std,two,sedan,rwd,four,112,6600,26,29,9298',\n",
       " 'volkswagen,diesel,turbo,four,sedan,fwd,four,68,4500,37,42,9495',\n",
       " 'toyota,gas,std,two,hatchback,rwd,four,112,6600,26,29,9538',\n",
       " 'nissan,gas,std,four,sedan,fwd,four,97,5200,27,34,9549',\n",
       " 'toyota,gas,std,two,hardtop,rwd,four,116,4800,24,30,9639',\n",
       " 'mitsubishi,gas,turbo,two,hatchback,fwd,four,116,5500,23,30,9959',\n",
       " 'subaru,gas,std,four,sedan,fwd,four,94,5200,26,32,9960',\n",
       " 'volkswagen,gas,std,two,hatchback,fwd,four,90,5500,24,29,9980',\n",
       " 'toyota,gas,std,four,hatchback,fwd,four,92,4200,27,32,9988',\n",
       " 'toyota,gas,std,two,hatchback,rwd,four,116,4800,24,30,9989',\n",
       " 'volkswagen,gas,std,four,sedan,fwd,four,100,5500,26,32,9995',\n",
       " 'subaru,gas,std,four,wagon,fwd,four,94,5200,25,31,10198',\n",
       " 'mazda,gas,std,four,sedan,fwd,four,84,4800,26,32,10245',\n",
       " 'honda,gas,std,four,sedan,fwd,four,86,5800,27,33,10295',\n",
       " 'honda,gas,std,two,sedan,fwd,four,100,5500,25,31,10345',\n",
       " 'mazda,gas,std,two,hatchback,fwd,four,84,4800,26,32,10595',\n",
       " 'toyota,diesel,turbo,four,sedan,fwd,four,73,4500,30,33,10698',\n",
       " 'toyota,gas,std,four,sedan,fwd,four,92,4200,27,32,10898',\n",
       " 'mazda,gas,std,two,hatchback,rwd,two,101,6000,17,23,10945',\n",
       " 'isuzu,gas,std,two,hatchback,rwd,four,90,5000,24,29,11048',\n",
       " 'toyota,gas,std,two,hardtop,rwd,four,116,4800,24,30,11199',\n",
       " 'mazda,gas,std,four,hatchback,fwd,four,84,4800,26,32,11245',\n",
       " 'toyota,gas,std,four,hatchback,fwd,four,92,4200,27,32,11248',\n",
       " 'subaru,gas,turbo,four,sedan,4wd,four,111,4800,24,29,11259',\n",
       " 'toyota,gas,std,two,hatchback,rwd,four,116,4800,24,30,11549',\n",
       " 'volkswagen,gas,std,two,convertible,fwd,four,90,5500,24,29,11595',\n",
       " 'subaru,gas,turbo,four,wagon,4wd,four,111,4800,23,23,11694',\n",
       " 'mazda,gas,std,two,hatchback,rwd,two,101,6000,17,23,11845',\n",
       " 'saab,gas,std,two,hatchback,fwd,four,110,5250,21,28,11850',\n",
       " 'peugot,gas,std,four,sedan,rwd,four,97,5000,19,24,11900',\n",
       " 'saab,gas,std,four,sedan,fwd,four,110,5250,21,28,12170',\n",
       " 'volkswagen,gas,std,four,wagon,fwd,four,88,5500,25,31,12290',\n",
       " 'peugot,gas,std,four,wagon,rwd,four,97,5000,19,24,12440',\n",
       " 'mitsubishi,gas,turbo,two,hatchback,fwd,four,145,5000,19,24,12629',\n",
       " 'plymouth,gas,turbo,two,hatchback,rwd,four,145,5000,19,24,12764',\n",
       " 'volvo,gas,std,four,sedan,rwd,four,114,5400,23,28,12940',\n",
       " 'honda,gas,std,four,sedan,fwd,four,101,5800,24,28,12945',\n",
       " 'dodge,gas,turbo,two,hatchback,fwd,four,145,5000,19,24,12964',\n",
       " 'peugot,diesel,turbo,four,sedan,rwd,four,95,4150,28,33,13200',\n",
       " 'volkswagen,gas,std,four,sedan,fwd,five,110,5500,19,24,13295',\n",
       " 'volvo,gas,std,four,wagon,rwd,four,114,5400,23,28,13415',\n",
       " 'alfa-romero,gas,std,two,convertible,rwd,four,111,5000,21,27,13495',\n",
       " 'nissan,gas,std,four,sedan,fwd,six,152,5200,17,22,13499',\n",
       " 'nissan,gas,std,four,sedan,fwd,six,152,5200,19,25,13499',\n",
       " 'mazda,gas,std,two,hatchback,rwd,two,101,6000,17,23,13645',\n",
       " 'volkswagen,diesel,turbo,four,sedan,fwd,four,68,4500,33,38,13845',\n",
       " 'peugot,diesel,turbo,four,wagon,rwd,four,95,4150,25,25,13860',\n",
       " 'audi,gas,std,four,sedan,fwd,four,102,5500,24,30,13950',\n",
       " 'nissan,gas,std,four,wagon,fwd,six,152,5200,17,22,14399',\n",
       " 'mitsubishi,gas,turbo,two,hatchback,fwd,four,145,5000,19,24,14489',\n",
       " 'mitsubishi,gas,turbo,two,hatchback,fwd,four,145,5000,19,24,14869',\n",
       " 'saab,gas,std,two,hatchback,fwd,four,110,5250,21,28,15040',\n",
       " 'audi,gas,std,two,sedan,fwd,five,110,5500,19,25,15250',\n",
       " 'saab,gas,std,four,sedan,fwd,four,110,5250,21,28,15510',\n",
       " 'peugot,gas,std,four,sedan,rwd,four,95,5000,19,24,15580',\n",
       " 'mazda,gas,std,two,hatchback,rwd,two,135,6000,16,23,15645',\n",
       " 'toyota,gas,std,four,sedan,rwd,six,156,5200,20,24,15690',\n",
       " 'toyota,gas,std,four,wagon,rwd,six,156,5200,19,24,15750',\n",
       " 'volvo,gas,std,four,sedan,rwd,four,114,5400,24,28,15985',\n",
       " 'toyota,gas,std,two,hatchback,rwd,six,161,5200,19,24,15998',\n",
       " 'bmw,gas,std,two,sedan,rwd,four,101,5800,23,29,16430',\n",
       " 'alfa-romero,gas,std,two,convertible,rwd,four,111,5000,21,27,16500',\n",
       " 'alfa-romero,gas,std,two,hatchback,rwd,six,154,5000,19,26,16500',\n",
       " 'mercury,gas,turbo,two,hatchback,rwd,four,175,5000,19,24,16503',\n",
       " 'volvo,gas,std,four,wagon,rwd,four,114,5400,24,28,16515',\n",
       " 'toyota,gas,std,two,hatchback,rwd,six,161,5200,20,24,16558',\n",
       " 'peugot,gas,std,four,sedan,rwd,four,97,5000,19,24,16630',\n",
       " 'peugot,gas,std,four,wagon,rwd,four,95,5000,19,24,16695',\n",
       " 'volvo,gas,std,four,sedan,rwd,four,114,5400,23,28,16845',\n",
       " 'peugot,diesel,turbo,four,sedan,rwd,four,95,4150,28,33,16900',\n",
       " 'bmw,gas,std,four,sedan,rwd,four,101,5800,23,29,16925',\n",
       " 'peugot,diesel,turbo,four,wagon,rwd,four,95,4150,25,25,17075',\n",
       " 'nissan,gas,std,two,hatchback,rwd,six,160,5200,19,25,17199',\n",
       " 'audi,gas,std,four,sedan,4wd,five,115,5500,18,22,17450',\n",
       " 'toyota,gas,std,two,convertible,rwd,four,116,4800,24,30,17669',\n",
       " 'audi,gas,std,four,sedan,fwd,five,110,5500,19,25,17710',\n",
       " 'peugot,diesel,turbo,four,sedan,rwd,four,95,4150,28,33,17950',\n",
       " 'peugot,gas,turbo,four,sedan,rwd,four,142,5600,18,24,18150',\n",
       " 'saab,gas,turbo,two,hatchback,fwd,four,160,5500,19,26,18150',\n",
       " 'mazda,gas,std,four,sedan,rwd,four,120,5000,19,27,18280',\n",
       " 'mazda,diesel,std,four,sedan,rwd,four,72,4200,31,39,18344',\n",
       " 'nissan,gas,std,two,hatchback,rwd,six,160,5200,19,25,18399',\n",
       " 'volvo,gas,turbo,four,sedan,rwd,four,162,5100,17,22,18420',\n",
       " 'saab,gas,turbo,four,sedan,fwd,four,160,5500,19,26,18620',\n",
       " 'audi,gas,std,four,wagon,fwd,five,110,5500,19,25,18920',\n",
       " 'volvo,gas,turbo,four,wagon,rwd,four,162,5100,17,22,18950',\n",
       " 'volvo,gas,turbo,four,sedan,rwd,four,160,5300,19,25,19045',\n",
       " 'nissan,gas,turbo,two,hatchback,rwd,six,200,5200,17,23,19699',\n",
       " 'bmw,gas,std,two,sedan,rwd,six,121,4250,21,28,20970',\n",
       " 'bmw,gas,std,four,sedan,rwd,six,121,4250,21,28,21105',\n",
       " 'volvo,gas,std,four,sedan,rwd,six,134,5500,18,23,21485',\n",
       " 'porsche,gas,std,two,hatchback,rwd,four,143,5500,19,27,22018',\n",
       " 'volvo,diesel,turbo,four,sedan,rwd,six,106,4800,26,27,22470',\n",
       " 'volvo,gas,turbo,four,sedan,rwd,four,114,5400,19,25,22625',\n",
       " 'audi,gas,turbo,four,sedan,fwd,five,140,5500,17,20,23875',\n",
       " 'bmw,gas,std,four,sedan,rwd,six,121,4250,20,25,24565',\n",
       " 'mercedes-benz,diesel,turbo,four,sedan,rwd,five,123,4350,22,25,25552',\n",
       " 'mercedes-benz,diesel,turbo,two,hardtop,rwd,five,123,4350,22,25,28176',\n",
       " 'mercedes-benz,diesel,turbo,four,wagon,rwd,five,123,4350,22,25,28248',\n",
       " 'bmw,gas,std,four,sedan,rwd,six,182,5400,16,22,30760',\n",
       " 'mercedes-benz,diesel,turbo,four,sedan,rwd,five,123,4350,22,25,31600',\n",
       " 'jaguar,gas,std,four,sedan,rwd,six,176,4750,15,19,32250',\n",
       " 'porsche,gas,std,two,hardtop,rwd,six,207,5900,17,25,32528',\n",
       " 'porsche,gas,std,two,hardtop,rwd,six,207,5900,17,25,34028',\n",
       " 'mercedes-benz,gas,std,four,sedan,rwd,eight,155,4750,16,18,34184',\n",
       " 'mercedes-benz,gas,std,two,convertible,rwd,eight,155,4750,16,18,35056',\n",
       " 'jaguar,gas,std,four,sedan,rwd,six,176,4750,15,19,35550',\n",
       " 'jaguar,gas,std,two,sedan,rwd,twelve,262,5000,13,17,36000',\n",
       " 'bmw,gas,std,four,sedan,rwd,six,182,5400,15,20,36880',\n",
       " 'porsche,gas,std,two,convertible,rwd,six,207,5900,17,25,37028',\n",
       " 'mercedes-benz,gas,std,four,sedan,rwd,eight,184,4500,14,16,40960',\n",
       " 'bmw,gas,std,two,sedan,rwd,six,182,5400,16,22,41315',\n",
       " 'mercedes-benz,gas,std,two,hardtop,rwd,eight,184,4500,14,16,45400']"
      ]
     },
     "execution_count": 60,
     "metadata": {},
     "output_type": "execute_result"
    }
   ],
   "source": [
    "linhas.collect()"
   ]
  },
  {
   "cell_type": "code",
   "execution_count": 54,
   "metadata": {
    "ExecuteTime": {
     "end_time": "2022-04-17T13:45:02.764856Z",
     "start_time": "2022-04-17T13:45:02.761881Z"
    }
   },
   "outputs": [],
   "source": [
    "# Importando função row\n",
    "from pyspark.sql import Row"
   ]
  },
  {
   "cell_type": "code",
   "execution_count": 55,
   "metadata": {
    "ExecuteTime": {
     "end_time": "2022-04-17T13:52:51.960270Z",
     "start_time": "2022-04-17T13:52:51.950147Z"
    }
   },
   "outputs": [],
   "source": [
    "# Convertendo para um vetor de linhas\n",
    "def transformToNumeric(inputStr) :\n",
    "    \n",
    "    attList = inputStr.split(\",\")\n",
    "    \n",
    "    doors = 1.0 if attList[3] == \"two\" else 2.0\n",
    "    \n",
    "    body = 1.0 if attList[4] == \"sedan\" else 2.0 \n",
    "       \n",
    "    # Filtrando colunas não necessárias nesta etapa\n",
    "    valores = Row(DOORS = doors, BODY = float(body), HP = float(attList[7]), RPM = float(attList[8]), MPG = float(attList[9]))\n",
    "    return valores"
   ]
  },
  {
   "cell_type": "code",
   "execution_count": 56,
   "metadata": {
    "ExecuteTime": {
     "end_time": "2022-04-17T13:52:53.616483Z",
     "start_time": "2022-04-17T13:52:53.528507Z"
    }
   },
   "outputs": [
    {
     "data": {
      "text/plain": [
       "[Row(DOORS=1.0, BODY=2.0, HP=69.0, RPM=4900.0, MPG=31.0),\n",
       " Row(DOORS=1.0, BODY=2.0, HP=48.0, RPM=5100.0, MPG=47.0),\n",
       " Row(DOORS=1.0, BODY=2.0, HP=68.0, RPM=5000.0, MPG=30.0),\n",
       " Row(DOORS=1.0, BODY=2.0, HP=62.0, RPM=4800.0, MPG=35.0),\n",
       " Row(DOORS=1.0, BODY=2.0, HP=68.0, RPM=5500.0, MPG=37.0),\n",
       " Row(DOORS=1.0, BODY=2.0, HP=60.0, RPM=5500.0, MPG=38.0),\n",
       " Row(DOORS=1.0, BODY=1.0, HP=69.0, RPM=5200.0, MPG=31.0),\n",
       " Row(DOORS=1.0, BODY=2.0, HP=68.0, RPM=5500.0, MPG=37.0),\n",
       " Row(DOORS=1.0, BODY=2.0, HP=68.0, RPM=5500.0, MPG=37.0),\n",
       " Row(DOORS=1.0, BODY=2.0, HP=68.0, RPM=5000.0, MPG=31.0),\n",
       " Row(DOORS=1.0, BODY=2.0, HP=68.0, RPM=5500.0, MPG=31.0),\n",
       " Row(DOORS=2.0, BODY=2.0, HP=68.0, RPM=5500.0, MPG=31.0),\n",
       " Row(DOORS=2.0, BODY=2.0, HP=68.0, RPM=5500.0, MPG=31.0),\n",
       " Row(DOORS=1.0, BODY=2.0, HP=70.0, RPM=5400.0, MPG=38.0),\n",
       " Row(DOORS=1.0, BODY=2.0, HP=62.0, RPM=4800.0, MPG=31.0),\n",
       " Row(DOORS=1.0, BODY=2.0, HP=68.0, RPM=5500.0, MPG=31.0),\n",
       " Row(DOORS=1.0, BODY=2.0, HP=58.0, RPM=4800.0, MPG=49.0),\n",
       " Row(DOORS=2.0, BODY=2.0, HP=62.0, RPM=4800.0, MPG=31.0),\n",
       " Row(DOORS=1.0, BODY=2.0, HP=76.0, RPM=6000.0, MPG=30.0),\n",
       " Row(DOORS=2.0, BODY=1.0, HP=70.0, RPM=5400.0, MPG=38.0),\n",
       " Row(DOORS=1.0, BODY=1.0, HP=69.0, RPM=5200.0, MPG=31.0),\n",
       " Row(DOORS=1.0, BODY=2.0, HP=68.0, RPM=5500.0, MPG=31.0),\n",
       " Row(DOORS=2.0, BODY=1.0, HP=68.0, RPM=5500.0, MPG=31.0),\n",
       " Row(DOORS=2.0, BODY=1.0, HP=68.0, RPM=5500.0, MPG=31.0),\n",
       " Row(DOORS=2.0, BODY=1.0, HP=68.0, RPM=5000.0, MPG=31.0),\n",
       " Row(DOORS=2.0, BODY=1.0, HP=78.0, RPM=4800.0, MPG=24.0),\n",
       " Row(DOORS=1.0, BODY=2.0, HP=68.0, RPM=5000.0, MPG=31.0),\n",
       " Row(DOORS=2.0, BODY=1.0, HP=69.0, RPM=5200.0, MPG=31.0),\n",
       " Row(DOORS=1.0, BODY=2.0, HP=76.0, RPM=6000.0, MPG=31.0),\n",
       " Row(DOORS=2.0, BODY=2.0, HP=62.0, RPM=4800.0, MPG=31.0),\n",
       " Row(DOORS=2.0, BODY=1.0, HP=70.0, RPM=4800.0, MPG=30.0),\n",
       " Row(DOORS=2.0, BODY=1.0, HP=88.0, RPM=5000.0, MPG=25.0),\n",
       " Row(DOORS=1.0, BODY=2.0, HP=73.0, RPM=4400.0, MPG=26.0),\n",
       " Row(DOORS=1.0, BODY=1.0, HP=55.0, RPM=4800.0, MPG=45.0),\n",
       " Row(DOORS=2.0, BODY=1.0, HP=82.0, RPM=4800.0, MPG=32.0),\n",
       " Row(DOORS=1.0, BODY=2.0, HP=76.0, RPM=6000.0, MPG=30.0),\n",
       " Row(DOORS=2.0, BODY=2.0, HP=70.0, RPM=4800.0, MPG=30.0),\n",
       " Row(DOORS=2.0, BODY=1.0, HP=76.0, RPM=6000.0, MPG=30.0),\n",
       " Row(DOORS=2.0, BODY=2.0, HP=76.0, RPM=6000.0, MPG=30.0),\n",
       " Row(DOORS=1.0, BODY=1.0, HP=69.0, RPM=5200.0, MPG=31.0),\n",
       " Row(DOORS=2.0, BODY=2.0, HP=69.0, RPM=5200.0, MPG=31.0),\n",
       " Row(DOORS=2.0, BODY=1.0, HP=68.0, RPM=5000.0, MPG=31.0),\n",
       " Row(DOORS=2.0, BODY=2.0, HP=82.0, RPM=4800.0, MPG=28.0),\n",
       " Row(DOORS=2.0, BODY=1.0, HP=69.0, RPM=5200.0, MPG=31.0),\n",
       " Row(DOORS=1.0, BODY=2.0, HP=73.0, RPM=4400.0, MPG=26.0),\n",
       " Row(DOORS=2.0, BODY=1.0, HP=68.0, RPM=5500.0, MPG=31.0),\n",
       " Row(DOORS=2.0, BODY=1.0, HP=68.0, RPM=5500.0, MPG=31.0),\n",
       " Row(DOORS=1.0, BODY=2.0, HP=102.0, RPM=5500.0, MPG=24.0),\n",
       " Row(DOORS=2.0, BODY=1.0, HP=70.0, RPM=4800.0, MPG=38.0),\n",
       " Row(DOORS=2.0, BODY=1.0, HP=82.0, RPM=4400.0, MPG=28.0),\n",
       " Row(DOORS=1.0, BODY=1.0, HP=52.0, RPM=4800.0, MPG=37.0),\n",
       " Row(DOORS=2.0, BODY=2.0, HP=56.0, RPM=4500.0, MPG=38.0),\n",
       " Row(DOORS=1.0, BODY=2.0, HP=69.0, RPM=5200.0, MPG=31.0),\n",
       " Row(DOORS=1.0, BODY=2.0, HP=86.0, RPM=5800.0, MPG=27.0),\n",
       " Row(DOORS=2.0, BODY=2.0, HP=62.0, RPM=4800.0, MPG=27.0),\n",
       " Row(DOORS=2.0, BODY=1.0, HP=56.0, RPM=4500.0, MPG=34.0),\n",
       " Row(DOORS=1.0, BODY=2.0, HP=102.0, RPM=5500.0, MPG=24.0),\n",
       " Row(DOORS=1.0, BODY=2.0, HP=102.0, RPM=5500.0, MPG=24.0),\n",
       " Row(DOORS=1.0, BODY=1.0, HP=85.0, RPM=5250.0, MPG=27.0),\n",
       " Row(DOORS=2.0, BODY=1.0, HP=52.0, RPM=4800.0, MPG=37.0),\n",
       " Row(DOORS=2.0, BODY=2.0, HP=69.0, RPM=5200.0, MPG=31.0),\n",
       " Row(DOORS=2.0, BODY=2.0, HP=82.0, RPM=4800.0, MPG=23.0),\n",
       " Row(DOORS=1.0, BODY=1.0, HP=70.0, RPM=4800.0, MPG=29.0),\n",
       " Row(DOORS=2.0, BODY=1.0, HP=88.0, RPM=5000.0, MPG=25.0),\n",
       " Row(DOORS=2.0, BODY=1.0, HP=85.0, RPM=5250.0, MPG=27.0),\n",
       " Row(DOORS=1.0, BODY=2.0, HP=70.0, RPM=4800.0, MPG=29.0),\n",
       " Row(DOORS=1.0, BODY=2.0, HP=69.0, RPM=5200.0, MPG=31.0),\n",
       " Row(DOORS=2.0, BODY=2.0, HP=70.0, RPM=4800.0, MPG=28.0),\n",
       " Row(DOORS=1.0, BODY=2.0, HP=116.0, RPM=4800.0, MPG=24.0),\n",
       " Row(DOORS=2.0, BODY=1.0, HP=84.0, RPM=4800.0, MPG=26.0),\n",
       " Row(DOORS=2.0, BODY=1.0, HP=85.0, RPM=5250.0, MPG=27.0),\n",
       " Row(DOORS=1.0, BODY=2.0, HP=88.0, RPM=5000.0, MPG=25.0),\n",
       " Row(DOORS=2.0, BODY=2.0, HP=62.0, RPM=4800.0, MPG=27.0),\n",
       " Row(DOORS=2.0, BODY=1.0, HP=86.0, RPM=5800.0, MPG=27.0),\n",
       " Row(DOORS=1.0, BODY=2.0, HP=84.0, RPM=4800.0, MPG=26.0),\n",
       " Row(DOORS=2.0, BODY=2.0, HP=88.0, RPM=5000.0, MPG=24.0),\n",
       " Row(DOORS=2.0, BODY=2.0, HP=88.0, RPM=5000.0, MPG=24.0),\n",
       " Row(DOORS=2.0, BODY=1.0, HP=92.0, RPM=4200.0, MPG=29.0),\n",
       " Row(DOORS=2.0, BODY=2.0, HP=97.0, RPM=5200.0, MPG=27.0),\n",
       " Row(DOORS=1.0, BODY=2.0, HP=86.0, RPM=5800.0, MPG=27.0),\n",
       " Row(DOORS=2.0, BODY=1.0, HP=82.0, RPM=4800.0, MPG=24.0),\n",
       " Row(DOORS=2.0, BODY=1.0, HP=70.0, RPM=4800.0, MPG=28.0),\n",
       " Row(DOORS=2.0, BODY=1.0, HP=116.0, RPM=5500.0, MPG=23.0),\n",
       " Row(DOORS=2.0, BODY=1.0, HP=116.0, RPM=5500.0, MPG=23.0),\n",
       " Row(DOORS=1.0, BODY=1.0, HP=112.0, RPM=6600.0, MPG=26.0),\n",
       " Row(DOORS=2.0, BODY=1.0, HP=68.0, RPM=4500.0, MPG=37.0),\n",
       " Row(DOORS=1.0, BODY=2.0, HP=112.0, RPM=6600.0, MPG=26.0),\n",
       " Row(DOORS=2.0, BODY=1.0, HP=97.0, RPM=5200.0, MPG=27.0),\n",
       " Row(DOORS=1.0, BODY=2.0, HP=116.0, RPM=4800.0, MPG=24.0),\n",
       " Row(DOORS=1.0, BODY=2.0, HP=116.0, RPM=5500.0, MPG=23.0),\n",
       " Row(DOORS=2.0, BODY=1.0, HP=94.0, RPM=5200.0, MPG=26.0),\n",
       " Row(DOORS=1.0, BODY=2.0, HP=90.0, RPM=5500.0, MPG=24.0),\n",
       " Row(DOORS=2.0, BODY=2.0, HP=92.0, RPM=4200.0, MPG=27.0),\n",
       " Row(DOORS=1.0, BODY=2.0, HP=116.0, RPM=4800.0, MPG=24.0),\n",
       " Row(DOORS=2.0, BODY=1.0, HP=100.0, RPM=5500.0, MPG=26.0),\n",
       " Row(DOORS=2.0, BODY=2.0, HP=94.0, RPM=5200.0, MPG=25.0),\n",
       " Row(DOORS=2.0, BODY=1.0, HP=84.0, RPM=4800.0, MPG=26.0),\n",
       " Row(DOORS=2.0, BODY=1.0, HP=86.0, RPM=5800.0, MPG=27.0),\n",
       " Row(DOORS=1.0, BODY=1.0, HP=100.0, RPM=5500.0, MPG=25.0),\n",
       " Row(DOORS=1.0, BODY=2.0, HP=84.0, RPM=4800.0, MPG=26.0),\n",
       " Row(DOORS=2.0, BODY=1.0, HP=73.0, RPM=4500.0, MPG=30.0),\n",
       " Row(DOORS=2.0, BODY=1.0, HP=92.0, RPM=4200.0, MPG=27.0),\n",
       " Row(DOORS=1.0, BODY=2.0, HP=101.0, RPM=6000.0, MPG=17.0),\n",
       " Row(DOORS=1.0, BODY=2.0, HP=90.0, RPM=5000.0, MPG=24.0),\n",
       " Row(DOORS=1.0, BODY=2.0, HP=116.0, RPM=4800.0, MPG=24.0),\n",
       " Row(DOORS=2.0, BODY=2.0, HP=84.0, RPM=4800.0, MPG=26.0),\n",
       " Row(DOORS=2.0, BODY=2.0, HP=92.0, RPM=4200.0, MPG=27.0),\n",
       " Row(DOORS=2.0, BODY=1.0, HP=111.0, RPM=4800.0, MPG=24.0),\n",
       " Row(DOORS=1.0, BODY=2.0, HP=116.0, RPM=4800.0, MPG=24.0),\n",
       " Row(DOORS=1.0, BODY=2.0, HP=90.0, RPM=5500.0, MPG=24.0),\n",
       " Row(DOORS=2.0, BODY=2.0, HP=111.0, RPM=4800.0, MPG=23.0),\n",
       " Row(DOORS=1.0, BODY=2.0, HP=101.0, RPM=6000.0, MPG=17.0),\n",
       " Row(DOORS=1.0, BODY=2.0, HP=110.0, RPM=5250.0, MPG=21.0),\n",
       " Row(DOORS=2.0, BODY=1.0, HP=97.0, RPM=5000.0, MPG=19.0),\n",
       " Row(DOORS=2.0, BODY=1.0, HP=110.0, RPM=5250.0, MPG=21.0),\n",
       " Row(DOORS=2.0, BODY=2.0, HP=88.0, RPM=5500.0, MPG=25.0),\n",
       " Row(DOORS=2.0, BODY=2.0, HP=97.0, RPM=5000.0, MPG=19.0),\n",
       " Row(DOORS=1.0, BODY=2.0, HP=145.0, RPM=5000.0, MPG=19.0),\n",
       " Row(DOORS=1.0, BODY=2.0, HP=145.0, RPM=5000.0, MPG=19.0),\n",
       " Row(DOORS=2.0, BODY=1.0, HP=114.0, RPM=5400.0, MPG=23.0),\n",
       " Row(DOORS=2.0, BODY=1.0, HP=101.0, RPM=5800.0, MPG=24.0),\n",
       " Row(DOORS=1.0, BODY=2.0, HP=145.0, RPM=5000.0, MPG=19.0),\n",
       " Row(DOORS=2.0, BODY=1.0, HP=95.0, RPM=4150.0, MPG=28.0),\n",
       " Row(DOORS=2.0, BODY=1.0, HP=110.0, RPM=5500.0, MPG=19.0),\n",
       " Row(DOORS=2.0, BODY=2.0, HP=114.0, RPM=5400.0, MPG=23.0),\n",
       " Row(DOORS=1.0, BODY=2.0, HP=111.0, RPM=5000.0, MPG=21.0),\n",
       " Row(DOORS=2.0, BODY=1.0, HP=152.0, RPM=5200.0, MPG=17.0),\n",
       " Row(DOORS=2.0, BODY=1.0, HP=152.0, RPM=5200.0, MPG=19.0),\n",
       " Row(DOORS=1.0, BODY=2.0, HP=101.0, RPM=6000.0, MPG=17.0),\n",
       " Row(DOORS=2.0, BODY=1.0, HP=68.0, RPM=4500.0, MPG=33.0),\n",
       " Row(DOORS=2.0, BODY=2.0, HP=95.0, RPM=4150.0, MPG=25.0),\n",
       " Row(DOORS=2.0, BODY=1.0, HP=102.0, RPM=5500.0, MPG=24.0),\n",
       " Row(DOORS=2.0, BODY=2.0, HP=152.0, RPM=5200.0, MPG=17.0),\n",
       " Row(DOORS=1.0, BODY=2.0, HP=145.0, RPM=5000.0, MPG=19.0),\n",
       " Row(DOORS=1.0, BODY=2.0, HP=145.0, RPM=5000.0, MPG=19.0),\n",
       " Row(DOORS=1.0, BODY=2.0, HP=110.0, RPM=5250.0, MPG=21.0),\n",
       " Row(DOORS=1.0, BODY=1.0, HP=110.0, RPM=5500.0, MPG=19.0),\n",
       " Row(DOORS=2.0, BODY=1.0, HP=110.0, RPM=5250.0, MPG=21.0),\n",
       " Row(DOORS=2.0, BODY=1.0, HP=95.0, RPM=5000.0, MPG=19.0),\n",
       " Row(DOORS=1.0, BODY=2.0, HP=135.0, RPM=6000.0, MPG=16.0),\n",
       " Row(DOORS=2.0, BODY=1.0, HP=156.0, RPM=5200.0, MPG=20.0),\n",
       " Row(DOORS=2.0, BODY=2.0, HP=156.0, RPM=5200.0, MPG=19.0),\n",
       " Row(DOORS=2.0, BODY=1.0, HP=114.0, RPM=5400.0, MPG=24.0),\n",
       " Row(DOORS=1.0, BODY=2.0, HP=161.0, RPM=5200.0, MPG=19.0),\n",
       " Row(DOORS=1.0, BODY=1.0, HP=101.0, RPM=5800.0, MPG=23.0),\n",
       " Row(DOORS=1.0, BODY=2.0, HP=111.0, RPM=5000.0, MPG=21.0),\n",
       " Row(DOORS=1.0, BODY=2.0, HP=154.0, RPM=5000.0, MPG=19.0),\n",
       " Row(DOORS=1.0, BODY=2.0, HP=175.0, RPM=5000.0, MPG=19.0),\n",
       " Row(DOORS=2.0, BODY=2.0, HP=114.0, RPM=5400.0, MPG=24.0),\n",
       " Row(DOORS=1.0, BODY=2.0, HP=161.0, RPM=5200.0, MPG=20.0),\n",
       " Row(DOORS=2.0, BODY=1.0, HP=97.0, RPM=5000.0, MPG=19.0),\n",
       " Row(DOORS=2.0, BODY=2.0, HP=95.0, RPM=5000.0, MPG=19.0),\n",
       " Row(DOORS=2.0, BODY=1.0, HP=114.0, RPM=5400.0, MPG=23.0),\n",
       " Row(DOORS=2.0, BODY=1.0, HP=95.0, RPM=4150.0, MPG=28.0),\n",
       " Row(DOORS=2.0, BODY=1.0, HP=101.0, RPM=5800.0, MPG=23.0),\n",
       " Row(DOORS=2.0, BODY=2.0, HP=95.0, RPM=4150.0, MPG=25.0),\n",
       " Row(DOORS=1.0, BODY=2.0, HP=160.0, RPM=5200.0, MPG=19.0),\n",
       " Row(DOORS=2.0, BODY=1.0, HP=115.0, RPM=5500.0, MPG=18.0),\n",
       " Row(DOORS=1.0, BODY=2.0, HP=116.0, RPM=4800.0, MPG=24.0),\n",
       " Row(DOORS=2.0, BODY=1.0, HP=110.0, RPM=5500.0, MPG=19.0),\n",
       " Row(DOORS=2.0, BODY=1.0, HP=95.0, RPM=4150.0, MPG=28.0),\n",
       " Row(DOORS=2.0, BODY=1.0, HP=142.0, RPM=5600.0, MPG=18.0),\n",
       " Row(DOORS=1.0, BODY=2.0, HP=160.0, RPM=5500.0, MPG=19.0),\n",
       " Row(DOORS=2.0, BODY=1.0, HP=120.0, RPM=5000.0, MPG=19.0),\n",
       " Row(DOORS=2.0, BODY=1.0, HP=72.0, RPM=4200.0, MPG=31.0),\n",
       " Row(DOORS=1.0, BODY=2.0, HP=160.0, RPM=5200.0, MPG=19.0),\n",
       " Row(DOORS=2.0, BODY=1.0, HP=162.0, RPM=5100.0, MPG=17.0),\n",
       " Row(DOORS=2.0, BODY=1.0, HP=160.0, RPM=5500.0, MPG=19.0),\n",
       " Row(DOORS=2.0, BODY=2.0, HP=110.0, RPM=5500.0, MPG=19.0),\n",
       " Row(DOORS=2.0, BODY=2.0, HP=162.0, RPM=5100.0, MPG=17.0),\n",
       " Row(DOORS=2.0, BODY=1.0, HP=160.0, RPM=5300.0, MPG=19.0),\n",
       " Row(DOORS=1.0, BODY=2.0, HP=200.0, RPM=5200.0, MPG=17.0),\n",
       " Row(DOORS=1.0, BODY=1.0, HP=121.0, RPM=4250.0, MPG=21.0),\n",
       " Row(DOORS=2.0, BODY=1.0, HP=121.0, RPM=4250.0, MPG=21.0),\n",
       " Row(DOORS=2.0, BODY=1.0, HP=134.0, RPM=5500.0, MPG=18.0),\n",
       " Row(DOORS=1.0, BODY=2.0, HP=143.0, RPM=5500.0, MPG=19.0),\n",
       " Row(DOORS=2.0, BODY=1.0, HP=106.0, RPM=4800.0, MPG=26.0),\n",
       " Row(DOORS=2.0, BODY=1.0, HP=114.0, RPM=5400.0, MPG=19.0),\n",
       " Row(DOORS=2.0, BODY=1.0, HP=140.0, RPM=5500.0, MPG=17.0),\n",
       " Row(DOORS=2.0, BODY=1.0, HP=121.0, RPM=4250.0, MPG=20.0),\n",
       " Row(DOORS=2.0, BODY=1.0, HP=123.0, RPM=4350.0, MPG=22.0),\n",
       " Row(DOORS=1.0, BODY=2.0, HP=123.0, RPM=4350.0, MPG=22.0),\n",
       " Row(DOORS=2.0, BODY=2.0, HP=123.0, RPM=4350.0, MPG=22.0),\n",
       " Row(DOORS=2.0, BODY=1.0, HP=182.0, RPM=5400.0, MPG=16.0),\n",
       " Row(DOORS=2.0, BODY=1.0, HP=123.0, RPM=4350.0, MPG=22.0),\n",
       " Row(DOORS=2.0, BODY=1.0, HP=176.0, RPM=4750.0, MPG=15.0),\n",
       " Row(DOORS=1.0, BODY=2.0, HP=207.0, RPM=5900.0, MPG=17.0),\n",
       " Row(DOORS=1.0, BODY=2.0, HP=207.0, RPM=5900.0, MPG=17.0),\n",
       " Row(DOORS=2.0, BODY=1.0, HP=155.0, RPM=4750.0, MPG=16.0),\n",
       " Row(DOORS=1.0, BODY=2.0, HP=155.0, RPM=4750.0, MPG=16.0),\n",
       " Row(DOORS=2.0, BODY=1.0, HP=176.0, RPM=4750.0, MPG=15.0),\n",
       " Row(DOORS=1.0, BODY=1.0, HP=262.0, RPM=5000.0, MPG=13.0),\n",
       " Row(DOORS=2.0, BODY=1.0, HP=182.0, RPM=5400.0, MPG=15.0),\n",
       " Row(DOORS=1.0, BODY=2.0, HP=207.0, RPM=5900.0, MPG=17.0),\n",
       " Row(DOORS=2.0, BODY=1.0, HP=184.0, RPM=4500.0, MPG=14.0),\n",
       " Row(DOORS=1.0, BODY=1.0, HP=182.0, RPM=5400.0, MPG=16.0),\n",
       " Row(DOORS=1.0, BODY=2.0, HP=184.0, RPM=4500.0, MPG=14.0)]"
      ]
     },
     "execution_count": 56,
     "metadata": {},
     "output_type": "execute_result"
    }
   ],
   "source": [
    "# Aplicando a função aos dados e persistindo o resultado em memória\n",
    "autoMap = linhas.map(transformToNumeric)\n",
    "autoMap.persist()\n",
    "autoMap.collect()"
   ]
  },
  {
   "cell_type": "code",
   "execution_count": 57,
   "metadata": {
    "ExecuteTime": {
     "end_time": "2022-04-17T13:53:10.028507Z",
     "start_time": "2022-04-17T13:53:09.901265Z"
    }
   },
   "outputs": [
    {
     "name": "stdout",
     "output_type": "stream",
     "text": [
      "+-----+----+----+------+----+\n",
      "|DOORS|BODY|  HP|   RPM| MPG|\n",
      "+-----+----+----+------+----+\n",
      "|  1.0| 2.0|69.0|4900.0|31.0|\n",
      "|  1.0| 2.0|48.0|5100.0|47.0|\n",
      "|  1.0| 2.0|68.0|5000.0|30.0|\n",
      "|  1.0| 2.0|62.0|4800.0|35.0|\n",
      "|  1.0| 2.0|68.0|5500.0|37.0|\n",
      "|  1.0| 2.0|60.0|5500.0|38.0|\n",
      "|  1.0| 1.0|69.0|5200.0|31.0|\n",
      "|  1.0| 2.0|68.0|5500.0|37.0|\n",
      "|  1.0| 2.0|68.0|5500.0|37.0|\n",
      "|  1.0| 2.0|68.0|5000.0|31.0|\n",
      "|  1.0| 2.0|68.0|5500.0|31.0|\n",
      "|  2.0| 2.0|68.0|5500.0|31.0|\n",
      "|  2.0| 2.0|68.0|5500.0|31.0|\n",
      "|  1.0| 2.0|70.0|5400.0|38.0|\n",
      "|  1.0| 2.0|62.0|4800.0|31.0|\n",
      "|  1.0| 2.0|68.0|5500.0|31.0|\n",
      "|  1.0| 2.0|58.0|4800.0|49.0|\n",
      "|  2.0| 2.0|62.0|4800.0|31.0|\n",
      "|  1.0| 2.0|76.0|6000.0|30.0|\n",
      "|  2.0| 1.0|70.0|5400.0|38.0|\n",
      "+-----+----+----+------+----+\n",
      "only showing top 20 rows\n",
      "\n"
     ]
    }
   ],
   "source": [
    "# Criando o Dataframe\n",
    "carrosDf = spSession.createDataFrame(autoMap)\n",
    "carrosDf.show()"
   ]
  },
  {
   "cell_type": "code",
   "execution_count": 114,
   "metadata": {
    "ExecuteTime": {
     "end_time": "2022-04-17T14:16:57.637006Z",
     "start_time": "2022-04-17T14:16:57.524041Z"
    },
    "scrolled": true
   },
   "outputs": [
    {
     "data": {
      "text/html": [
       "<div>\n",
       "<style scoped>\n",
       "    .dataframe tbody tr th:only-of-type {\n",
       "        vertical-align: middle;\n",
       "    }\n",
       "\n",
       "    .dataframe tbody tr th {\n",
       "        vertical-align: top;\n",
       "    }\n",
       "\n",
       "    .dataframe thead th {\n",
       "        text-align: right;\n",
       "    }\n",
       "</style>\n",
       "<table border=\"1\" class=\"dataframe\">\n",
       "  <thead>\n",
       "    <tr style=\"text-align: right;\">\n",
       "      <th></th>\n",
       "      <th>summary</th>\n",
       "      <th>DOORS</th>\n",
       "      <th>BODY</th>\n",
       "      <th>HP</th>\n",
       "      <th>RPM</th>\n",
       "      <th>MPG</th>\n",
       "    </tr>\n",
       "  </thead>\n",
       "  <tbody>\n",
       "    <tr>\n",
       "      <th>0</th>\n",
       "      <td>count</td>\n",
       "      <td>197</td>\n",
       "      <td>197</td>\n",
       "      <td>197</td>\n",
       "      <td>197</td>\n",
       "      <td>197</td>\n",
       "    </tr>\n",
       "    <tr>\n",
       "      <th>1</th>\n",
       "      <td>mean</td>\n",
       "      <td>1.5685279187817258</td>\n",
       "      <td>1.532994923857868</td>\n",
       "      <td>103.60406091370558</td>\n",
       "      <td>5118.0203045685275</td>\n",
       "      <td>25.15228426395939</td>\n",
       "    </tr>\n",
       "    <tr>\n",
       "      <th>2</th>\n",
       "      <td>stddev</td>\n",
       "      <td>0.49654352778167493</td>\n",
       "      <td>0.5001812579359883</td>\n",
       "      <td>37.639205349518356</td>\n",
       "      <td>481.03591405011446</td>\n",
       "      <td>6.437862917085915</td>\n",
       "    </tr>\n",
       "    <tr>\n",
       "      <th>3</th>\n",
       "      <td>min</td>\n",
       "      <td>1.0</td>\n",
       "      <td>1.0</td>\n",
       "      <td>48.0</td>\n",
       "      <td>4150.0</td>\n",
       "      <td>13.0</td>\n",
       "    </tr>\n",
       "    <tr>\n",
       "      <th>4</th>\n",
       "      <td>max</td>\n",
       "      <td>2.0</td>\n",
       "      <td>2.0</td>\n",
       "      <td>262.0</td>\n",
       "      <td>6600.0</td>\n",
       "      <td>49.0</td>\n",
       "    </tr>\n",
       "  </tbody>\n",
       "</table>\n",
       "</div>"
      ],
      "text/plain": [
       "  summary                DOORS                BODY                  HP  \\\n",
       "0   count                  197                 197                 197   \n",
       "1    mean   1.5685279187817258   1.532994923857868  103.60406091370558   \n",
       "2  stddev  0.49654352778167493  0.5001812579359883  37.639205349518356   \n",
       "3     min                  1.0                 1.0                48.0   \n",
       "4     max                  2.0                 2.0               262.0   \n",
       "\n",
       "                  RPM                MPG  \n",
       "0                 197                197  \n",
       "1  5118.0203045685275  25.15228426395939  \n",
       "2  481.03591405011446  6.437862917085915  \n",
       "3              4150.0               13.0  \n",
       "4              6600.0               49.0  "
      ]
     },
     "execution_count": 114,
     "metadata": {},
     "output_type": "execute_result"
    }
   ],
   "source": [
    "# Sumarizando as estatísticas do conjunto de dados\n",
    "summStats = carrosDf.describe().toPandas()\n",
    "summStats"
   ]
  },
  {
   "cell_type": "code",
   "execution_count": 87,
   "metadata": {
    "ExecuteTime": {
     "end_time": "2022-04-17T14:08:53.441433Z",
     "start_time": "2022-04-17T14:08:53.439475Z"
    }
   },
   "outputs": [
    {
     "name": "stderr",
     "output_type": "stream",
     "text": [
      "/tmp/ipykernel_764601/2087841836.py:1: UserWarning: Pandas doesn't allow columns to be created via a new attribute name - see https://pandas.pydata.org/pandas-docs/stable/indexing.html#attribute-access\n",
      "  summStats.colums =summStats.iloc[0]\n"
     ]
    }
   ],
   "source": [
    "# summStats.colums =summStats.iloc[0]"
   ]
  },
  {
   "cell_type": "code",
   "execution_count": 88,
   "metadata": {
    "ExecuteTime": {
     "end_time": "2022-04-17T14:08:55.558569Z",
     "start_time": "2022-04-17T14:08:55.551665Z"
    }
   },
   "outputs": [],
   "source": [
    "# summStats.rename(columns=summStats.iloc[0], inplace = True)"
   ]
  },
  {
   "cell_type": "code",
   "execution_count": 89,
   "metadata": {
    "ExecuteTime": {
     "end_time": "2022-04-17T14:08:57.006956Z",
     "start_time": "2022-04-17T14:08:56.983151Z"
    }
   },
   "outputs": [
    {
     "data": {
      "text/html": [
       "<div>\n",
       "<style scoped>\n",
       "    .dataframe tbody tr th:only-of-type {\n",
       "        vertical-align: middle;\n",
       "    }\n",
       "\n",
       "    .dataframe tbody tr th {\n",
       "        vertical-align: top;\n",
       "    }\n",
       "\n",
       "    .dataframe thead th {\n",
       "        text-align: right;\n",
       "    }\n",
       "</style>\n",
       "<table border=\"1\" class=\"dataframe\">\n",
       "  <thead>\n",
       "    <tr style=\"text-align: right;\">\n",
       "      <th></th>\n",
       "      <th>count</th>\n",
       "      <th>mean</th>\n",
       "      <th>stddev</th>\n",
       "      <th>min</th>\n",
       "      <th>max</th>\n",
       "    </tr>\n",
       "  </thead>\n",
       "  <tbody>\n",
       "    <tr>\n",
       "      <th>DOORS</th>\n",
       "      <td>197</td>\n",
       "      <td>1.5685279187817258</td>\n",
       "      <td>0.49654352778167493</td>\n",
       "      <td>1.0</td>\n",
       "      <td>2.0</td>\n",
       "    </tr>\n",
       "    <tr>\n",
       "      <th>BODY</th>\n",
       "      <td>197</td>\n",
       "      <td>1.532994923857868</td>\n",
       "      <td>0.5001812579359883</td>\n",
       "      <td>1.0</td>\n",
       "      <td>2.0</td>\n",
       "    </tr>\n",
       "    <tr>\n",
       "      <th>HP</th>\n",
       "      <td>197</td>\n",
       "      <td>103.60406091370558</td>\n",
       "      <td>37.639205349518356</td>\n",
       "      <td>48.0</td>\n",
       "      <td>262.0</td>\n",
       "    </tr>\n",
       "    <tr>\n",
       "      <th>RPM</th>\n",
       "      <td>197</td>\n",
       "      <td>5118.0203045685275</td>\n",
       "      <td>481.03591405011446</td>\n",
       "      <td>4150.0</td>\n",
       "      <td>6600.0</td>\n",
       "    </tr>\n",
       "    <tr>\n",
       "      <th>MPG</th>\n",
       "      <td>197</td>\n",
       "      <td>25.15228426395939</td>\n",
       "      <td>6.437862917085915</td>\n",
       "      <td>13.0</td>\n",
       "      <td>49.0</td>\n",
       "    </tr>\n",
       "  </tbody>\n",
       "</table>\n",
       "</div>"
      ],
      "text/plain": [
       "      count                mean               stddev     min     max\n",
       "DOORS   197  1.5685279187817258  0.49654352778167493     1.0     2.0\n",
       "BODY    197   1.532994923857868   0.5001812579359883     1.0     2.0\n",
       "HP      197  103.60406091370558   37.639205349518356    48.0   262.0\n",
       "RPM     197  5118.0203045685275   481.03591405011446  4150.0  6600.0\n",
       "MPG     197   25.15228426395939    6.437862917085915    13.0    49.0"
      ]
     },
     "execution_count": 89,
     "metadata": {},
     "output_type": "execute_result"
    }
   ],
   "source": [
    "# summStats.drop(['summary'])"
   ]
  },
  {
   "cell_type": "code",
   "execution_count": 118,
   "metadata": {
    "ExecuteTime": {
     "end_time": "2022-04-17T14:18:00.555127Z",
     "start_time": "2022-04-17T14:18:00.542327Z"
    }
   },
   "outputs": [
    {
     "data": {
      "text/plain": [
       "['1.5685279187817258',\n",
       " '1.532994923857868',\n",
       " '103.60406091370558',\n",
       " '5118.0203045685275',\n",
       " '25.15228426395939']"
      ]
     },
     "execution_count": 118,
     "metadata": {},
     "output_type": "execute_result"
    }
   ],
   "source": [
    "# Extraindo as médias\n",
    "medias = summStats.iloc[1, 1:6].values.tolist()\n",
    "medias"
   ]
  },
  {
   "cell_type": "code",
   "execution_count": 117,
   "metadata": {
    "ExecuteTime": {
     "end_time": "2022-04-17T14:17:57.070902Z",
     "start_time": "2022-04-17T14:17:57.061337Z"
    }
   },
   "outputs": [
    {
     "data": {
      "text/plain": [
       "['0.49654352778167493',\n",
       " '0.5001812579359883',\n",
       " '37.639205349518356',\n",
       " '481.03591405011446',\n",
       " '6.437862917085915']"
      ]
     },
     "execution_count": 117,
     "metadata": {},
     "output_type": "execute_result"
    }
   ],
   "source": [
    "# Extraindo o desvio padrão\n",
    "desvios_padroes = summStats.iloc[2, 1:6].values.tolist()\n",
    "desvios_padroes"
   ]
  },
  {
   "cell_type": "code",
   "execution_count": 119,
   "metadata": {
    "ExecuteTime": {
     "end_time": "2022-04-17T14:18:44.143843Z",
     "start_time": "2022-04-17T14:18:44.130062Z"
    }
   },
   "outputs": [],
   "source": [
    "# Inserindo a média e o desvio padrão em uma variável do tipo broadcast \n",
    "bcMedias = sc.broadcast(medias)\n",
    "bcDesviosP = sc.broadcast(desvios_padroes)"
   ]
  },
  {
   "cell_type": "code",
   "execution_count": 120,
   "metadata": {
    "ExecuteTime": {
     "end_time": "2022-04-17T14:18:45.776780Z",
     "start_time": "2022-04-17T14:18:45.770972Z"
    }
   },
   "outputs": [],
   "source": [
    "# Importando a Função Vectors\n",
    "from pyspark.ml.linalg import Vectors"
   ]
  },
  {
   "cell_type": "code",
   "execution_count": 121,
   "metadata": {
    "ExecuteTime": {
     "end_time": "2022-04-17T14:18:47.118566Z",
     "start_time": "2022-04-17T14:18:47.112132Z"
    }
   },
   "outputs": [],
   "source": [
    "# Função para normalizar os dados e criar um vetor denso\n",
    "def centerAndScale(inRow) :\n",
    "    global bcMedias\n",
    "    global bcDesviosP\n",
    "    \n",
    "    meanArray = bcMedias.value\n",
    "    stdArray = bcDesviosP.value\n",
    "\n",
    "    retArray = []\n",
    "    \n",
    "    for i in range(len(meanArray)):\n",
    "        retArray.append( (float(inRow[i]) - float(meanArray[i])) / float(stdArray[i]) ) #normalização\n",
    "    return Vectors.dense(retArray)"
   ]
  },
  {
   "cell_type": "code",
   "execution_count": 123,
   "metadata": {
    "ExecuteTime": {
     "end_time": "2022-04-17T14:21:49.449229Z",
     "start_time": "2022-04-17T14:19:01.474504Z"
    }
   },
   "outputs": [
    {
     "name": "stdout",
     "output_type": "stream",
     "text": [
      "Collecting numpy\n",
      "\u001b[?25l  Downloading https://files.pythonhosted.org/packages/64/4a/b008d1f8a7b9f5206ecf70a53f84e654707e7616a771d84c05151a4713e9/numpy-1.22.3.zip (11.5MB)\n",
      "\u001b[K     |████████████████████████████████| 11.5MB 2.4MB/s eta 0:00:01\n",
      "\u001b[?25h  Installing build dependencies ... \u001b[?25ldone\n",
      "\u001b[?25h  Getting requirements to build wheel ... \u001b[?25ldone\n",
      "\u001b[?25h    Preparing wheel metadata ... \u001b[?25ldone\n",
      "\u001b[?25hBuilding wheels for collected packages: numpy\n",
      "  Building wheel for numpy (PEP 517) ... \u001b[?25ldone\n",
      "\u001b[?25h  Created wheel for numpy: filename=numpy-1.22.3-cp38-cp38-linux_x86_64.whl size=24413678 sha256=6c7b01a2c284e3f3e1472c92d2581dadff4cc89e995056dfbd57f8b2ef9c69bb\n",
      "  Stored in directory: /home/marxcerqueira/.cache/pip/wheels/21/37/10/81a13af5964837a3627457192fbc14d926b1a2dcd810f70fbf\n",
      "Successfully built numpy\n",
      "Installing collected packages: numpy\n",
      "Successfully installed numpy-1.22.3\n",
      "\u001b[33mWARNING: You are using pip version 19.2.3, however version 22.0.4 is available.\n",
      "You should consider upgrading via the 'pip install --upgrade pip' command.\u001b[0m\n"
     ]
    }
   ],
   "source": [
    "!pip install numpy"
   ]
  },
  {
   "cell_type": "code",
   "execution_count": 124,
   "metadata": {
    "ExecuteTime": {
     "end_time": "2022-04-17T14:22:40.874438Z",
     "start_time": "2022-04-17T14:22:40.612633Z"
    }
   },
   "outputs": [
    {
     "data": {
      "text/plain": [
       "[DenseVector([-1.145, 0.9337, -0.9194, -0.4532, 0.9083]),\n",
       " DenseVector([-1.145, 0.9337, -1.4773, -0.0375, 3.3936]),\n",
       " DenseVector([-1.145, 0.9337, -0.9459, -0.2453, 0.753]),\n",
       " DenseVector([-1.145, 0.9337, -1.1053, -0.6611, 1.5297]),\n",
       " DenseVector([-1.145, 0.9337, -0.9459, 0.7941, 1.8403]),\n",
       " DenseVector([-1.145, 0.9337, -1.1585, 0.7941, 1.9956]),\n",
       " DenseVector([-1.145, -1.0656, -0.9194, 0.1704, 0.9083]),\n",
       " DenseVector([-1.145, 0.9337, -0.9459, 0.7941, 1.8403]),\n",
       " DenseVector([-1.145, 0.9337, -0.9459, 0.7941, 1.8403]),\n",
       " DenseVector([-1.145, 0.9337, -0.9459, -0.2453, 0.9083]),\n",
       " DenseVector([-1.145, 0.9337, -0.9459, 0.7941, 0.9083]),\n",
       " DenseVector([0.869, 0.9337, -0.9459, 0.7941, 0.9083]),\n",
       " DenseVector([0.869, 0.9337, -0.9459, 0.7941, 0.9083]),\n",
       " DenseVector([-1.145, 0.9337, -0.8928, 0.5862, 1.9956]),\n",
       " DenseVector([-1.145, 0.9337, -1.1053, -0.6611, 0.9083]),\n",
       " DenseVector([-1.145, 0.9337, -0.9459, 0.7941, 0.9083]),\n",
       " DenseVector([-1.145, 0.9337, -1.2116, -0.6611, 3.7043]),\n",
       " DenseVector([0.869, 0.9337, -1.1053, -0.6611, 0.9083]),\n",
       " DenseVector([-1.145, 0.9337, -0.7334, 1.8335, 0.753]),\n",
       " DenseVector([0.869, -1.0656, -0.8928, 0.5862, 1.9956]),\n",
       " DenseVector([-1.145, -1.0656, -0.9194, 0.1704, 0.9083]),\n",
       " DenseVector([-1.145, 0.9337, -0.9459, 0.7941, 0.9083]),\n",
       " DenseVector([0.869, -1.0656, -0.9459, 0.7941, 0.9083]),\n",
       " DenseVector([0.869, -1.0656, -0.9459, 0.7941, 0.9083]),\n",
       " DenseVector([0.869, -1.0656, -0.9459, -0.2453, 0.9083]),\n",
       " DenseVector([0.869, -1.0656, -0.6802, -0.6611, -0.179]),\n",
       " DenseVector([-1.145, 0.9337, -0.9459, -0.2453, 0.9083]),\n",
       " DenseVector([0.869, -1.0656, -0.9194, 0.1704, 0.9083]),\n",
       " DenseVector([-1.145, 0.9337, -0.7334, 1.8335, 0.9083]),\n",
       " DenseVector([0.869, 0.9337, -1.1053, -0.6611, 0.9083]),\n",
       " DenseVector([0.869, -1.0656, -0.8928, -0.6611, 0.753]),\n",
       " DenseVector([0.869, -1.0656, -0.4146, -0.2453, -0.0237]),\n",
       " DenseVector([-1.145, 0.9337, -0.8131, -1.4927, 0.1317]),\n",
       " DenseVector([-1.145, -1.0656, -1.2913, -0.6611, 3.083]),\n",
       " DenseVector([0.869, -1.0656, -0.574, -0.6611, 1.0637]),\n",
       " DenseVector([-1.145, 0.9337, -0.7334, 1.8335, 0.753]),\n",
       " DenseVector([0.869, 0.9337, -0.8928, -0.6611, 0.753]),\n",
       " DenseVector([0.869, -1.0656, -0.7334, 1.8335, 0.753]),\n",
       " DenseVector([0.869, 0.9337, -0.7334, 1.8335, 0.753]),\n",
       " DenseVector([-1.145, -1.0656, -0.9194, 0.1704, 0.9083]),\n",
       " DenseVector([0.869, 0.9337, -0.9194, 0.1704, 0.9083]),\n",
       " DenseVector([0.869, -1.0656, -0.9459, -0.2453, 0.9083]),\n",
       " DenseVector([0.869, 0.9337, -0.574, -0.6611, 0.4423]),\n",
       " DenseVector([0.869, -1.0656, -0.9194, 0.1704, 0.9083]),\n",
       " DenseVector([-1.145, 0.9337, -0.8131, -1.4927, 0.1317]),\n",
       " DenseVector([0.869, -1.0656, -0.9459, 0.7941, 0.9083]),\n",
       " DenseVector([0.869, -1.0656, -0.9459, 0.7941, 0.9083]),\n",
       " DenseVector([-1.145, 0.9337, -0.0426, 0.7941, -0.179]),\n",
       " DenseVector([0.869, -1.0656, -0.8928, -0.6611, 1.9956]),\n",
       " DenseVector([0.869, -1.0656, -0.574, -1.4927, 0.4423]),\n",
       " DenseVector([-1.145, -1.0656, -1.371, -0.6611, 1.8403]),\n",
       " DenseVector([0.869, 0.9337, -1.2647, -1.2848, 1.9956]),\n",
       " DenseVector([-1.145, 0.9337, -0.9194, 0.1704, 0.9083]),\n",
       " DenseVector([-1.145, 0.9337, -0.4677, 1.4177, 0.287]),\n",
       " DenseVector([0.869, 0.9337, -1.1053, -0.6611, 0.287]),\n",
       " DenseVector([0.869, -1.0656, -1.2647, -1.2848, 1.3743]),\n",
       " DenseVector([-1.145, 0.9337, -0.0426, 0.7941, -0.179]),\n",
       " DenseVector([-1.145, 0.9337, -0.0426, 0.7941, -0.179]),\n",
       " DenseVector([-1.145, -1.0656, -0.4943, 0.2744, 0.287]),\n",
       " DenseVector([0.869, -1.0656, -1.371, -0.6611, 1.8403]),\n",
       " DenseVector([0.869, 0.9337, -0.9194, 0.1704, 0.9083]),\n",
       " DenseVector([0.869, 0.9337, -0.574, -0.6611, -0.3343]),\n",
       " DenseVector([-1.145, -1.0656, -0.8928, -0.6611, 0.5977]),\n",
       " DenseVector([0.869, -1.0656, -0.4146, -0.2453, -0.0237]),\n",
       " DenseVector([0.869, -1.0656, -0.4943, 0.2744, 0.287]),\n",
       " DenseVector([-1.145, 0.9337, -0.8928, -0.6611, 0.5977]),\n",
       " DenseVector([-1.145, 0.9337, -0.9194, 0.1704, 0.9083]),\n",
       " DenseVector([0.869, 0.9337, -0.8928, -0.6611, 0.4423]),\n",
       " DenseVector([-1.145, 0.9337, 0.3293, -0.6611, -0.179]),\n",
       " DenseVector([0.869, -1.0656, -0.5208, -0.6611, 0.1317]),\n",
       " DenseVector([0.869, -1.0656, -0.4943, 0.2744, 0.287]),\n",
       " DenseVector([-1.145, 0.9337, -0.4146, -0.2453, -0.0237]),\n",
       " DenseVector([0.869, 0.9337, -1.1053, -0.6611, 0.287]),\n",
       " DenseVector([0.869, -1.0656, -0.4677, 1.4177, 0.287]),\n",
       " DenseVector([-1.145, 0.9337, -0.5208, -0.6611, 0.1317]),\n",
       " DenseVector([0.869, 0.9337, -0.4146, -0.2453, -0.179]),\n",
       " DenseVector([0.869, 0.9337, -0.4146, -0.2453, -0.179]),\n",
       " DenseVector([0.869, -1.0656, -0.3083, -1.9084, 0.5977]),\n",
       " DenseVector([0.869, 0.9337, -0.1755, 0.1704, 0.287]),\n",
       " DenseVector([-1.145, 0.9337, -0.4677, 1.4177, 0.287]),\n",
       " DenseVector([0.869, -1.0656, -0.574, -0.6611, -0.179]),\n",
       " DenseVector([0.869, -1.0656, -0.8928, -0.6611, 0.4423]),\n",
       " DenseVector([0.869, -1.0656, 0.3293, 0.7941, -0.3343]),\n",
       " DenseVector([0.869, -1.0656, 0.3293, 0.7941, -0.3343]),\n",
       " DenseVector([-1.145, -1.0656, 0.2231, 3.0808, 0.1317]),\n",
       " DenseVector([0.869, -1.0656, -0.9459, -1.2848, 1.8403]),\n",
       " DenseVector([-1.145, 0.9337, 0.2231, 3.0808, 0.1317]),\n",
       " DenseVector([0.869, -1.0656, -0.1755, 0.1704, 0.287]),\n",
       " DenseVector([-1.145, 0.9337, 0.3293, -0.6611, -0.179]),\n",
       " DenseVector([-1.145, 0.9337, 0.3293, 0.7941, -0.3343]),\n",
       " DenseVector([0.869, -1.0656, -0.2552, 0.1704, 0.1317]),\n",
       " DenseVector([-1.145, 0.9337, -0.3614, 0.7941, -0.179]),\n",
       " DenseVector([0.869, 0.9337, -0.3083, -1.9084, 0.287]),\n",
       " DenseVector([-1.145, 0.9337, 0.3293, -0.6611, -0.179]),\n",
       " DenseVector([0.869, -1.0656, -0.0958, 0.7941, 0.1317]),\n",
       " DenseVector([0.869, 0.9337, -0.2552, 0.1704, -0.0237]),\n",
       " DenseVector([0.869, -1.0656, -0.5208, -0.6611, 0.1317]),\n",
       " DenseVector([0.869, -1.0656, -0.4677, 1.4177, 0.287]),\n",
       " DenseVector([-1.145, -1.0656, -0.0958, 0.7941, -0.0237]),\n",
       " DenseVector([-1.145, 0.9337, -0.5208, -0.6611, 0.1317]),\n",
       " DenseVector([0.869, -1.0656, -0.8131, -1.2848, 0.753]),\n",
       " DenseVector([0.869, -1.0656, -0.3083, -1.9084, 0.287]),\n",
       " DenseVector([-1.145, 0.9337, -0.0692, 1.8335, -1.2663]),\n",
       " DenseVector([-1.145, 0.9337, -0.3614, -0.2453, -0.179]),\n",
       " DenseVector([-1.145, 0.9337, 0.3293, -0.6611, -0.179]),\n",
       " DenseVector([0.869, 0.9337, -0.5208, -0.6611, 0.1317]),\n",
       " DenseVector([0.869, 0.9337, -0.3083, -1.9084, 0.287]),\n",
       " DenseVector([0.869, -1.0656, 0.1965, -0.6611, -0.179]),\n",
       " DenseVector([-1.145, 0.9337, 0.3293, -0.6611, -0.179]),\n",
       " DenseVector([-1.145, 0.9337, -0.3614, 0.7941, -0.179]),\n",
       " DenseVector([0.869, 0.9337, 0.1965, -0.6611, -0.3343]),\n",
       " DenseVector([-1.145, 0.9337, -0.0692, 1.8335, -1.2663]),\n",
       " DenseVector([-1.145, 0.9337, 0.1699, 0.2744, -0.645]),\n",
       " DenseVector([0.869, -1.0656, -0.1755, -0.2453, -0.9556]),\n",
       " DenseVector([0.869, -1.0656, 0.1699, 0.2744, -0.645]),\n",
       " DenseVector([0.869, 0.9337, -0.4146, 0.7941, -0.0237]),\n",
       " DenseVector([0.869, 0.9337, -0.1755, -0.2453, -0.9556]),\n",
       " DenseVector([-1.145, 0.9337, 1.0998, -0.2453, -0.9556]),\n",
       " DenseVector([-1.145, 0.9337, 1.0998, -0.2453, -0.9556]),\n",
       " DenseVector([0.869, -1.0656, 0.2762, 0.5862, -0.3343]),\n",
       " DenseVector([0.869, -1.0656, -0.0692, 1.4177, -0.179]),\n",
       " DenseVector([-1.145, 0.9337, 1.0998, -0.2453, -0.9556]),\n",
       " DenseVector([0.869, -1.0656, -0.2286, -2.0124, 0.4423]),\n",
       " DenseVector([0.869, -1.0656, 0.1699, 0.7941, -0.9556]),\n",
       " DenseVector([0.869, 0.9337, 0.2762, 0.5862, -0.3343]),\n",
       " DenseVector([-1.145, 0.9337, 0.1965, -0.2453, -0.645]),\n",
       " DenseVector([0.869, -1.0656, 1.2858, 0.1704, -1.2663]),\n",
       " DenseVector([0.869, -1.0656, 1.2858, 0.1704, -0.9556]),\n",
       " DenseVector([-1.145, 0.9337, -0.0692, 1.8335, -1.2663]),\n",
       " DenseVector([0.869, -1.0656, -0.9459, -1.2848, 1.219]),\n",
       " DenseVector([0.869, 0.9337, -0.2286, -2.0124, -0.0237]),\n",
       " DenseVector([0.869, -1.0656, -0.0426, 0.7941, -0.179]),\n",
       " DenseVector([0.869, 0.9337, 1.2858, 0.1704, -1.2663]),\n",
       " DenseVector([-1.145, 0.9337, 1.0998, -0.2453, -0.9556]),\n",
       " DenseVector([-1.145, 0.9337, 1.0998, -0.2453, -0.9556]),\n",
       " DenseVector([-1.145, 0.9337, 0.1699, 0.2744, -0.645]),\n",
       " DenseVector([-1.145, -1.0656, 0.1699, 0.7941, -0.9556]),\n",
       " DenseVector([0.869, -1.0656, 0.1699, 0.2744, -0.645]),\n",
       " DenseVector([0.869, -1.0656, -0.2286, -0.2453, -0.9556]),\n",
       " DenseVector([-1.145, 0.9337, 0.8341, 1.8335, -1.4216]),\n",
       " DenseVector([0.869, -1.0656, 1.3921, 0.1704, -0.8003]),\n",
       " DenseVector([0.869, 0.9337, 1.3921, 0.1704, -0.9556]),\n",
       " DenseVector([0.869, -1.0656, 0.2762, 0.5862, -0.179]),\n",
       " DenseVector([-1.145, 0.9337, 1.5249, 0.1704, -0.9556]),\n",
       " DenseVector([-1.145, -1.0656, -0.0692, 1.4177, -0.3343]),\n",
       " DenseVector([-1.145, 0.9337, 0.1965, -0.2453, -0.645]),\n",
       " DenseVector([-1.145, 0.9337, 1.3389, -0.2453, -0.9556]),\n",
       " DenseVector([-1.145, 0.9337, 1.8969, -0.2453, -0.9556]),\n",
       " DenseVector([0.869, 0.9337, 0.2762, 0.5862, -0.179]),\n",
       " DenseVector([-1.145, 0.9337, 1.5249, 0.1704, -0.8003]),\n",
       " DenseVector([0.869, -1.0656, -0.1755, -0.2453, -0.9556]),\n",
       " DenseVector([0.869, 0.9337, -0.2286, -0.2453, -0.9556]),\n",
       " DenseVector([0.869, -1.0656, 0.2762, 0.5862, -0.3343]),\n",
       " DenseVector([0.869, -1.0656, -0.2286, -2.0124, 0.4423]),\n",
       " DenseVector([0.869, -1.0656, -0.0692, 1.4177, -0.3343]),\n",
       " DenseVector([0.869, 0.9337, -0.2286, -2.0124, -0.0237]),\n",
       " DenseVector([-1.145, 0.9337, 1.4983, 0.1704, -0.9556]),\n",
       " DenseVector([0.869, -1.0656, 0.3028, 0.7941, -1.111]),\n",
       " DenseVector([-1.145, 0.9337, 0.3293, -0.6611, -0.179]),\n",
       " DenseVector([0.869, -1.0656, 0.1699, 0.7941, -0.9556]),\n",
       " DenseVector([0.869, -1.0656, -0.2286, -2.0124, 0.4423]),\n",
       " DenseVector([0.869, -1.0656, 1.0201, 1.002, -1.111]),\n",
       " DenseVector([-1.145, 0.9337, 1.4983, 0.7941, -0.9556]),\n",
       " DenseVector([0.869, -1.0656, 0.4356, -0.2453, -0.9556]),\n",
       " DenseVector([0.869, -1.0656, -0.8397, -1.9084, 0.9083]),\n",
       " DenseVector([-1.145, 0.9337, 1.4983, 0.1704, -0.9556]),\n",
       " DenseVector([0.869, -1.0656, 1.5515, -0.0375, -1.2663]),\n",
       " DenseVector([0.869, -1.0656, 1.4983, 0.7941, -0.9556]),\n",
       " DenseVector([0.869, 0.9337, 0.1699, 0.7941, -0.9556]),\n",
       " DenseVector([0.869, 0.9337, 1.5515, -0.0375, -1.2663]),\n",
       " DenseVector([0.869, -1.0656, 1.4983, 0.3783, -0.9556]),\n",
       " DenseVector([-1.145, 0.9337, 2.5611, 0.1704, -1.2663]),\n",
       " DenseVector([-1.145, -1.0656, 0.4622, -1.8045, -0.645]),\n",
       " DenseVector([0.869, -1.0656, 0.4622, -1.8045, -0.645]),\n",
       " DenseVector([0.869, -1.0656, 0.8076, 0.7941, -1.111]),\n",
       " DenseVector([-1.145, 0.9337, 1.0467, 0.7941, -0.9556]),\n",
       " DenseVector([0.869, -1.0656, 0.0637, -0.6611, 0.1317]),\n",
       " DenseVector([0.869, -1.0656, 0.2762, 0.5862, -0.9556]),\n",
       " DenseVector([0.869, -1.0656, 0.967, 0.7941, -1.2663]),\n",
       " DenseVector([0.869, -1.0656, 0.4622, -1.8045, -0.8003]),\n",
       " DenseVector([0.869, -1.0656, 0.5153, -1.5966, -0.4896]),\n",
       " DenseVector([-1.145, 0.9337, 0.5153, -1.5966, -0.4896]),\n",
       " DenseVector([0.869, 0.9337, 0.5153, -1.5966, -0.4896]),\n",
       " DenseVector([0.869, -1.0656, 2.0828, 0.5862, -1.4216]),\n",
       " DenseVector([0.869, -1.0656, 0.5153, -1.5966, -0.4896]),\n",
       " DenseVector([0.869, -1.0656, 1.9234, -0.7651, -1.577]),\n",
       " DenseVector([-1.145, 0.9337, 2.747, 1.6256, -1.2663]),\n",
       " DenseVector([-1.145, 0.9337, 2.747, 1.6256, -1.2663]),\n",
       " DenseVector([0.869, -1.0656, 1.3655, -0.7651, -1.4216]),\n",
       " DenseVector([-1.145, 0.9337, 1.3655, -0.7651, -1.4216]),\n",
       " DenseVector([0.869, -1.0656, 1.9234, -0.7651, -1.577]),\n",
       " DenseVector([-1.145, -1.0656, 4.2083, -0.2453, -1.8876]),\n",
       " DenseVector([0.869, -1.0656, 2.0828, 0.5862, -1.577]),\n",
       " DenseVector([-1.145, 0.9337, 2.747, 1.6256, -1.2663]),\n",
       " DenseVector([0.869, -1.0656, 2.136, -1.2848, -1.7323]),\n",
       " DenseVector([-1.145, -1.0656, 2.0828, 0.5862, -1.4216]),\n",
       " DenseVector([-1.145, 0.9337, 2.136, -1.2848, -1.7323])]"
      ]
     },
     "execution_count": 124,
     "metadata": {},
     "output_type": "execute_result"
    }
   ],
   "source": [
    "# Aplicando a normalização aos dados\n",
    "csAuto = carrosDf.rdd.map(centerAndScale)\n",
    "csAuto.collect()"
   ]
  },
  {
   "cell_type": "code",
   "execution_count": 125,
   "metadata": {
    "ExecuteTime": {
     "end_time": "2022-04-17T14:23:06.592509Z",
     "start_time": "2022-04-17T14:23:06.210268Z"
    }
   },
   "outputs": [
    {
     "name": "stdout",
     "output_type": "stream",
     "text": [
      "+--------------------+\n",
      "|            features|\n",
      "+--------------------+\n",
      "|[-1.1449709581789...|\n",
      "|[-1.1449709581789...|\n",
      "|[-1.1449709581789...|\n",
      "|[-1.1449709581789...|\n",
      "|[-1.1449709581789...|\n",
      "|[-1.1449709581789...|\n",
      "|[-1.1449709581789...|\n",
      "|[-1.1449709581789...|\n",
      "|[-1.1449709581789...|\n",
      "|[-1.1449709581789...|\n",
      "+--------------------+\n",
      "only showing top 10 rows\n",
      "\n"
     ]
    }
   ],
   "source": [
    "# Criando um Spark Dataframe com as features (atributos)\n",
    "autoRows = csAuto.map(lambda f: Row(features = f))\n",
    "autoDf = spSession.createDataFrame(autoRows)\n",
    "autoDf.select(\"features\").show(10)"
   ]
  },
  {
   "cell_type": "code",
   "execution_count": 131,
   "metadata": {
    "ExecuteTime": {
     "end_time": "2022-04-17T14:32:16.884800Z",
     "start_time": "2022-04-17T14:32:15.685418Z"
    }
   },
   "outputs": [
    {
     "name": "stdout",
     "output_type": "stream",
     "text": [
      "+--------------------+----------+\n",
      "|            features|prediction|\n",
      "+--------------------+----------+\n",
      "|[-1.1449709581789...|         0|\n",
      "|[-1.1449709581789...|         0|\n",
      "|[-1.1449709581789...|         0|\n",
      "|[-1.1449709581789...|         0|\n",
      "|[-1.1449709581789...|         0|\n",
      "|[-1.1449709581789...|         0|\n",
      "|[-1.1449709581789...|         0|\n",
      "|[-1.1449709581789...|         0|\n",
      "|[-1.1449709581789...|         0|\n",
      "|[-1.1449709581789...|         0|\n",
      "|[-1.1449709581789...|         0|\n",
      "|[0.86895117361793...|         0|\n",
      "|[0.86895117361793...|         0|\n",
      "|[-1.1449709581789...|         0|\n",
      "|[-1.1449709581789...|         0|\n",
      "|[-1.1449709581789...|         0|\n",
      "|[-1.1449709581789...|         0|\n",
      "|[0.86895117361793...|         0|\n",
      "|[-1.1449709581789...|         0|\n",
      "|[0.86895117361793...|         0|\n",
      "+--------------------+----------+\n",
      "only showing top 20 rows\n",
      "\n"
     ]
    }
   ],
   "source": [
    "# Importando o algoritmo K-Means para clusterização\n",
    "from pyspark.ml.clustering import KMeans\n",
    "kmeans = KMeans(k = 3, seed = 1)\n",
    "modelo = kmeans.fit(autoDf)\n",
    "previsoes = modelo.transform(autoDf)\n",
    "previsoes.show()"
   ]
  },
  {
   "cell_type": "code",
   "execution_count": 132,
   "metadata": {
    "ExecuteTime": {
     "end_time": "2022-04-17T14:32:21.416739Z",
     "start_time": "2022-04-17T14:32:21.402575Z"
    }
   },
   "outputs": [],
   "source": [
    "# Plot dos resultados\n",
    "import pandas as pd\n",
    "import matplotlib.pylab as plt\n",
    "%matplotlib inline"
   ]
  },
  {
   "cell_type": "code",
   "execution_count": 133,
   "metadata": {
    "ExecuteTime": {
     "end_time": "2022-04-17T14:32:22.491296Z",
     "start_time": "2022-04-17T14:32:22.489121Z"
    }
   },
   "outputs": [],
   "source": [
    "# Função para leitura dos dados e plotagem\n",
    "def unstripData(instr) :\n",
    "    return ( instr[\"prediction\"], instr[\"features\"][0], instr[\"features\"][1],instr[\"features\"][2],instr[\"features\"][3])\n"
   ]
  },
  {
   "cell_type": "code",
   "execution_count": 134,
   "metadata": {
    "ExecuteTime": {
     "end_time": "2022-04-17T14:32:24.436021Z",
     "start_time": "2022-04-17T14:32:24.153676Z"
    }
   },
   "outputs": [],
   "source": [
    "# Organizando os dados para o Plot\n",
    "unstripped = previsoes.rdd.map(unstripData)\n",
    "predList = unstripped.collect()\n",
    "predPd = pd.DataFrame(predList)"
   ]
  },
  {
   "cell_type": "code",
   "execution_count": 135,
   "metadata": {
    "ExecuteTime": {
     "end_time": "2022-04-17T14:32:25.445040Z",
     "start_time": "2022-04-17T14:32:25.312349Z"
    }
   },
   "outputs": [
    {
     "data": {
      "text/plain": [
       "<matplotlib.collections.PathCollection at 0x7f7c3ecc4f40>"
      ]
     },
     "execution_count": 135,
     "metadata": {},
     "output_type": "execute_result"
    },
    {
     "data": {
      "image/png": "[encoded data removed]",
      "text/plain": [
       "<Figure size 432x288 with 1 Axes>"
      ]
     },
     "metadata": {
      "needs_background": "light"
     },
     "output_type": "display_data"
    }
   ],
   "source": [
    "plt.cla()\n",
    "plt.scatter(predPd[3], predPd[4], c = predPd[0])"
   ]
  },
  {
   "cell_type": "markdown",
   "metadata": {
    "collapsed": true
   },
   "source": [
    "## Spark SQL e Arquivos JSON"
   ]
  },
  {
   "cell_type": "markdown",
   "metadata": {},
   "source": [
    "Neste site você pode validar a estrutura de um arquivo JSON: http://jsonlint.com/"
   ]
  },
  {
   "cell_type": "markdown",
   "metadata": {},
   "source": [
    "json mt usado em arquivos vindos da web"
   ]
  },
  {
   "cell_type": "code",
   "execution_count": 136,
   "metadata": {
    "ExecuteTime": {
     "end_time": "2022-04-17T15:00:25.139124Z",
     "start_time": "2022-04-17T15:00:25.040698Z"
    }
   },
   "outputs": [],
   "source": [
    "# Importando o arquivo JSON\n",
    "funcDF = spSession.read.json(\"data/funcionarios.json\")"
   ]
  },
  {
   "cell_type": "code",
   "execution_count": 137,
   "metadata": {
    "ExecuteTime": {
     "end_time": "2022-04-17T15:00:26.534010Z",
     "start_time": "2022-04-17T15:00:26.473306Z"
    }
   },
   "outputs": [
    {
     "name": "stdout",
     "output_type": "stream",
     "text": [
      "+------+-----+----------------+-------+----+\n",
      "|deptid|idade|            nome|salario|sexo|\n",
      "+------+-----+----------------+-------+----+\n",
      "|  1000|   42|  Gilmar Rezende|   5000|   m|\n",
      "|  2000|   50|  Matias Tavares|   8500|   m|\n",
      "|  1000|   36|   Paulo Miranda|   9700|   m|\n",
      "|  1000|   41|Ana Paula Soares|   9500|   f|\n",
      "|  2000|   34|   Carolina Maia|   6500|   m|\n",
      "+------+-----+----------------+-------+----+\n",
      "\n"
     ]
    }
   ],
   "source": [
    "funcDF.show()"
   ]
  },
  {
   "cell_type": "code",
   "execution_count": 139,
   "metadata": {
    "ExecuteTime": {
     "end_time": "2022-04-17T15:01:03.518309Z",
     "start_time": "2022-04-17T15:01:03.502116Z"
    }
   },
   "outputs": [
    {
     "name": "stdout",
     "output_type": "stream",
     "text": [
      "root\n",
      " |-- deptid: string (nullable = true)\n",
      " |-- idade: string (nullable = true)\n",
      " |-- nome: string (nullable = true)\n",
      " |-- salario: string (nullable = true)\n",
      " |-- sexo: string (nullable = true)\n",
      "\n"
     ]
    }
   ],
   "source": [
    "funcDF.printSchema() #padrão de organização do arquivo"
   ]
  },
  {
   "cell_type": "code",
   "execution_count": 138,
   "metadata": {
    "ExecuteTime": {
     "end_time": "2022-04-17T15:00:31.426573Z",
     "start_time": "2022-04-17T15:00:31.420325Z"
    }
   },
   "outputs": [
    {
     "data": {
      "text/plain": [
       "pyspark.sql.dataframe.DataFrame"
      ]
     },
     "execution_count": 138,
     "metadata": {},
     "output_type": "execute_result"
    }
   ],
   "source": [
    "type(funcDF)"
   ]
  },
  {
   "cell_type": "code",
   "execution_count": 140,
   "metadata": {
    "ExecuteTime": {
     "end_time": "2022-04-17T15:03:08.357724Z",
     "start_time": "2022-04-17T15:03:08.300691Z"
    }
   },
   "outputs": [
    {
     "name": "stdout",
     "output_type": "stream",
     "text": [
      "+----------------+\n",
      "|            nome|\n",
      "+----------------+\n",
      "|  Gilmar Rezende|\n",
      "|  Matias Tavares|\n",
      "|   Paulo Miranda|\n",
      "|Ana Paula Soares|\n",
      "|   Carolina Maia|\n",
      "+----------------+\n",
      "\n"
     ]
    }
   ],
   "source": [
    "# Operações com Dataframe Spark SQL - select()\n",
    "funcDF.select(\"nome\").show()"
   ]
  },
  {
   "cell_type": "code",
   "execution_count": 141,
   "metadata": {
    "ExecuteTime": {
     "end_time": "2022-04-17T15:03:23.450881Z",
     "start_time": "2022-04-17T15:03:23.365275Z"
    }
   },
   "outputs": [
    {
     "name": "stdout",
     "output_type": "stream",
     "text": [
      "+------+-----+--------------+-------+----+\n",
      "|deptid|idade|          nome|salario|sexo|\n",
      "+------+-----+--------------+-------+----+\n",
      "|  2000|   50|Matias Tavares|   8500|   m|\n",
      "+------+-----+--------------+-------+----+\n",
      "\n"
     ]
    }
   ],
   "source": [
    "# Operações com Dataframe Spark SQL - filter()\n",
    "funcDF.filter(funcDF['idade'] == 50).show()"
   ]
  },
  {
   "cell_type": "code",
   "execution_count": 154,
   "metadata": {
    "ExecuteTime": {
     "end_time": "2022-04-17T15:17:48.393359Z",
     "start_time": "2022-04-17T15:17:48.385397Z"
    }
   },
   "outputs": [
    {
     "data": {
      "text/plain": [
       "pyspark.sql.dataframe.DataFrame"
      ]
     },
     "execution_count": 154,
     "metadata": {},
     "output_type": "execute_result"
    }
   ],
   "source": [
    "type(funcDF)"
   ]
  },
  {
   "cell_type": "code",
   "execution_count": 142,
   "metadata": {
    "ExecuteTime": {
     "end_time": "2022-04-17T15:06:14.596823Z",
     "start_time": "2022-04-17T15:06:14.267719Z"
    }
   },
   "outputs": [
    {
     "name": "stdout",
     "output_type": "stream",
     "text": [
      "+----+-----+\n",
      "|sexo|count|\n",
      "+----+-----+\n",
      "|   m|    4|\n",
      "|   f|    1|\n",
      "+----+-----+\n",
      "\n"
     ]
    }
   ],
   "source": [
    "# Operações com Dataframe Spark SQL - groupBy()\n",
    "funcDF.groupBy(\"sexo\").count().show()"
   ]
  },
  {
   "cell_type": "code",
   "execution_count": 143,
   "metadata": {
    "ExecuteTime": {
     "end_time": "2022-04-17T15:06:18.385433Z",
     "start_time": "2022-04-17T15:06:18.022840Z"
    }
   },
   "outputs": [
    {
     "name": "stdout",
     "output_type": "stream",
     "text": [
      "+------+----------+-----------------+\n",
      "|deptid|max(idade)|     avg(salario)|\n",
      "+------+----------+-----------------+\n",
      "|  2000|        50|           7500.0|\n",
      "|  1000|        42|8066.666666666667|\n",
      "+------+----------+-----------------+\n",
      "\n"
     ]
    }
   ],
   "source": [
    "# Operações com Dataframe Spark SQL - groupBy()\n",
    "funcDF.groupBy(\"deptid\").agg({\"salario\": \"avg\", \"idade\": \"max\"}).show()"
   ]
  },
  {
   "cell_type": "code",
   "execution_count": 144,
   "metadata": {
    "ExecuteTime": {
     "end_time": "2022-04-17T15:06:23.416952Z",
     "start_time": "2022-04-17T15:06:23.412400Z"
    }
   },
   "outputs": [],
   "source": [
    "# Registrando o dataframe como uma Temp Table\n",
    "funcDF.registerTempTable(\"funcTB\")"
   ]
  },
  {
   "cell_type": "code",
   "execution_count": 145,
   "metadata": {
    "ExecuteTime": {
     "end_time": "2022-04-17T15:06:50.721004Z",
     "start_time": "2022-04-17T15:06:50.461158Z"
    }
   },
   "outputs": [
    {
     "name": "stdout",
     "output_type": "stream",
     "text": [
      "+------+----------+----------------------------+\n",
      "|deptid|max(idade)|avg(CAST(salario AS DOUBLE))|\n",
      "+------+----------+----------------------------+\n",
      "|  2000|        50|                      7500.0|\n",
      "|  1000|        42|           8066.666666666667|\n",
      "+------+----------+----------------------------+\n",
      "\n"
     ]
    }
   ],
   "source": [
    "# Executando queries SQL ANSI\n",
    "spSession.sql(\"select deptid, max(idade), avg(salario) from funcTB group by deptid\").show()"
   ]
  },
  {
   "cell_type": "markdown",
   "metadata": {},
   "source": [
    "## Temp Tables"
   ]
  },
  {
   "cell_type": "markdown",
   "metadata": {},
   "source": [
    "spark sql:\n",
    "1) dataframe;\n",
    "\n",
    "2) sql context;\n",
    "\n",
    "3) spark session"
   ]
  },
  {
   "cell_type": "code",
   "execution_count": 146,
   "metadata": {
    "ExecuteTime": {
     "end_time": "2022-04-17T15:13:16.873008Z",
     "start_time": "2022-04-17T15:13:16.860837Z"
    }
   },
   "outputs": [],
   "source": [
    "# Registrando o dataframe como temp Table\n",
    "funcDF.createOrReplaceTempView(\"funcTB\")"
   ]
  },
  {
   "cell_type": "code",
   "execution_count": 147,
   "metadata": {
    "ExecuteTime": {
     "end_time": "2022-04-17T15:13:20.323409Z",
     "start_time": "2022-04-17T15:13:20.261868Z"
    }
   },
   "outputs": [
    {
     "name": "stdout",
     "output_type": "stream",
     "text": [
      "+------+-----+-------------+-------+----+\n",
      "|deptid|idade|         nome|salario|sexo|\n",
      "+------+-----+-------------+-------+----+\n",
      "|  1000|   36|Paulo Miranda|   9700|   m|\n",
      "+------+-----+-------------+-------+----+\n",
      "\n"
     ]
    }
   ],
   "source": [
    "spSession.sql(\"select * from funcTB where salario = 9700\").show()"
   ]
  },
  {
   "cell_type": "code",
   "execution_count": 148,
   "metadata": {
    "ExecuteTime": {
     "end_time": "2022-04-17T15:13:40.199657Z",
     "start_time": "2022-04-17T15:13:40.191549Z"
    }
   },
   "outputs": [],
   "source": [
    "# Criando Temp Table\n",
    "sqlContext.registerDataFrameAsTable(funcDF, \"funcTB2\") #só existe em tempo de execução"
   ]
  },
  {
   "cell_type": "code",
   "execution_count": 149,
   "metadata": {
    "ExecuteTime": {
     "end_time": "2022-04-17T15:13:41.821499Z",
     "start_time": "2022-04-17T15:13:41.794071Z"
    }
   },
   "outputs": [
    {
     "ename": "NameError",
     "evalue": "name 'funcTB2' is not defined",
     "output_type": "error",
     "traceback": [
      "\u001b[0;31m---------------------------------------------------------------------------\u001b[0m",
      "\u001b[0;31mNameError\u001b[0m                                 Traceback (most recent call last)",
      "Input \u001b[0;32mIn [149]\u001b[0m, in \u001b[0;36m<cell line: 1>\u001b[0;34m()\u001b[0m\n\u001b[0;32m----> 1\u001b[0m \u001b[38;5;28mtype\u001b[39m(\u001b[43mfuncTB2\u001b[49m)\n",
      "\u001b[0;31mNameError\u001b[0m: name 'funcTB2' is not defined"
     ]
    }
   ],
   "source": [
    "type(funcTB2)"
   ]
  },
  {
   "cell_type": "code",
   "execution_count": 150,
   "metadata": {
    "ExecuteTime": {
     "end_time": "2022-04-17T15:13:48.815291Z",
     "start_time": "2022-04-17T15:13:48.805311Z"
    }
   },
   "outputs": [],
   "source": [
    "# Persistindo a Temp Table \n",
    "funcTB3 = spSession.table(\"funcTB2\")"
   ]
  },
  {
   "cell_type": "code",
   "execution_count": 151,
   "metadata": {
    "ExecuteTime": {
     "end_time": "2022-04-17T15:13:49.734644Z",
     "start_time": "2022-04-17T15:13:49.729314Z"
    }
   },
   "outputs": [
    {
     "data": {
      "text/plain": [
       "pyspark.sql.dataframe.DataFrame"
      ]
     },
     "execution_count": 151,
     "metadata": {},
     "output_type": "execute_result"
    }
   ],
   "source": [
    "type(funcTB3)"
   ]
  },
  {
   "cell_type": "code",
   "execution_count": 152,
   "metadata": {
    "ExecuteTime": {
     "end_time": "2022-04-17T15:16:05.432125Z",
     "start_time": "2022-04-17T15:16:05.363373Z"
    }
   },
   "outputs": [
    {
     "data": {
      "text/plain": [
       "True"
      ]
     },
     "execution_count": 152,
     "metadata": {},
     "output_type": "execute_result"
    }
   ],
   "source": [
    "# Comparando o Dataframe com a tabela temporária criada\n",
    "# verifica se ouve alguma alteração durante uma manipulação\n",
    "sorted(funcDF.collect()) == sorted(funcTB3.collect())"
   ]
  },
  {
   "cell_type": "code",
   "execution_count": 153,
   "metadata": {
    "ExecuteTime": {
     "end_time": "2022-04-17T15:16:45.368555Z",
     "start_time": "2022-04-17T15:16:45.314944Z"
    }
   },
   "outputs": [
    {
     "data": {
      "text/plain": [
       "Row(deptid='1000', idade='42', nome='Gilmar Rezende', salario='5000', sexo='m')"
      ]
     },
     "execution_count": 153,
     "metadata": {},
     "output_type": "execute_result"
    }
   ],
   "source": [
    "# Aplicando o filtro\n",
    "sqlContext.registerDataFrameAsTable(funcDF, \"funcTB2\")\n",
    "funcTB3 = spSession.table(\"funcTB2\")\n",
    "funcTB3.filter(\"idade = '42'\").first()"
   ]
  },
  {
   "cell_type": "code",
   "execution_count": 155,
   "metadata": {
    "ExecuteTime": {
     "end_time": "2022-04-17T15:18:25.026672Z",
     "start_time": "2022-04-17T15:18:24.995482Z"
    }
   },
   "outputs": [],
   "source": [
    "# Drop Temp Table\n",
    "sqlContext.dropTempTable(\"funcTB2\")"
   ]
  },
  {
   "cell_type": "markdown",
   "metadata": {},
   "source": [
    "## Banco de Dados Relacional"
   ]
  },
  {
   "cell_type": "markdown",
   "metadata": {},
   "source": [
    "Extraindo Dados do MySQL. Primeiro precisamos baixar o driver JDBC. Haverá um driver JDBC para cada banco de dados que você conectar (Oracle, SQL Server, etc...)"
   ]
  },
  {
   "cell_type": "markdown",
   "metadata": {},
   "source": [
    "1- Download do Driver JDBC para o MySQL: http://dev.mysql.com/downloads/connector/j/"
   ]
  },
  {
   "cell_type": "markdown",
   "metadata": {},
   "source": [
    "2- Baixar o arquivo .zip"
   ]
  },
  {
   "cell_type": "markdown",
   "metadata": {},
   "source": [
    "3- Descompactar o arquivo e copiar o arquivo mysql-connector-java-8.0.16.jar para a pasta /opt/Spark/jars ou para SO Windows em C:\\Spark\\jars"
   ]
  },
  {
   "cell_type": "code",
   "execution_count": null,
   "metadata": {},
   "outputs": [],
   "source": [
    "from pyspark.sql import SparkSession\n",
    "from pyspark.sql import SQLContext\n",
    "spSession = SparkSession.builder.master(\"local\").appName(\"Analytics-SparkSQL\").getOrCreate()\n",
    "sqlContext = SQLContext(sc)"
   ]
  },
  {
   "cell_type": "code",
   "execution_count": null,
   "metadata": {},
   "outputs": [],
   "source": [
    "mysql_df = spSession.read.format(\"jdbc\").options(\n",
    "    url = \"jdbc:mysql://localhost/carros\",\n",
    "    serverTimezone = \"UTC\",\n",
    "    driver = \"com.mysql.jdbc.Driver\",\n",
    "    dbtable = \"carrosTB\",\n",
    "    user = \"root\",\n",
    "    password = \"dsa1234\").load()"
   ]
  },
  {
   "cell_type": "code",
   "execution_count": null,
   "metadata": {},
   "outputs": [],
   "source": [
    "mysql_df.show()"
   ]
  },
  {
   "cell_type": "code",
   "execution_count": null,
   "metadata": {},
   "outputs": [],
   "source": [
    "mysql_df.registerTempTable(\"carrostb\")"
   ]
  },
  {
   "cell_type": "code",
   "execution_count": null,
   "metadata": {},
   "outputs": [],
   "source": [
    "spSession.sql(\"select * from carrostb where hp = '68'\").show()"
   ]
  },
  {
   "cell_type": "markdown",
   "metadata": {
    "collapsed": true
   },
   "source": [
    "## Banco de Dados Não-Relacional"
   ]
  },
  {
   "cell_type": "markdown",
   "metadata": {},
   "source": [
    "Spark Connector: https://docs.mongodb.com/spark-connector/current/"
   ]
  },
  {
   "cell_type": "markdown",
   "metadata": {},
   "source": [
    "Mongo Spark: https://spark-packages.org/package/mongodb/mongo-spark"
   ]
  },
  {
   "cell_type": "markdown",
   "metadata": {},
   "source": [
    "$SPARK_HOME/bin/pyspark --packages org.mongodb.spark:mongo-spark-connector_2.11:2.4.0"
   ]
  },
  {
   "cell_type": "code",
   "execution_count": 3,
   "metadata": {
    "ExecuteTime": {
     "end_time": "2022-04-17T20:40:15.104759Z",
     "start_time": "2022-04-17T20:40:15.083691Z"
    }
   },
   "outputs": [
    {
     "data": {
      "text/plain": [
       "'3.0.3'"
      ]
     },
     "execution_count": 3,
     "metadata": {},
     "output_type": "execute_result"
    }
   ],
   "source": [
    "sc.version"
   ]
  },
  {
   "cell_type": "code",
   "execution_count": 2,
   "metadata": {
    "ExecuteTime": {
     "end_time": "2022-04-17T20:40:12.883282Z",
     "start_time": "2022-04-17T20:40:12.876927Z"
    }
   },
   "outputs": [],
   "source": [
    "# Imports\n",
    "from pyspark.sql import SparkSession"
   ]
  },
  {
   "cell_type": "markdown",
   "metadata": {},
   "source": [
    "### Leitura"
   ]
  },
  {
   "cell_type": "code",
   "execution_count": 4,
   "metadata": {
    "ExecuteTime": {
     "end_time": "2022-04-17T20:40:16.493255Z",
     "start_time": "2022-04-17T20:40:16.482467Z"
    }
   },
   "outputs": [],
   "source": [
    "# Cria a sessão\n",
    "my_spark = SparkSession \\\n",
    "    .builder \\\n",
    "    .appName(\"myApp\") \\\n",
    "    .config(\"spark.mongodb.input.uri\", \"mongodb://localhost:27017/test_db.test_collection\") \\\n",
    "    .config(\"spark.mongodb.output.uri\", \"mongodb://localhost:27017/test_db.test_collection\") \\\n",
    "    .getOrCreate()"
   ]
  },
  {
   "cell_type": "code",
   "execution_count": 5,
   "metadata": {
    "ExecuteTime": {
     "end_time": "2022-04-17T20:40:19.364726Z",
     "start_time": "2022-04-17T20:40:17.855294Z"
    }
   },
   "outputs": [],
   "source": [
    "# Carrega os dados do MongoDB no Spark\n",
    "dados = spark.read.format(\"com.mongodb.spark.sql.DefaultSource\").load()"
   ]
  },
  {
   "cell_type": "code",
   "execution_count": 6,
   "metadata": {
    "ExecuteTime": {
     "end_time": "2022-04-17T20:40:20.805938Z",
     "start_time": "2022-04-17T20:40:20.771866Z"
    }
   },
   "outputs": [
    {
     "name": "stdout",
     "output_type": "stream",
     "text": [
      "root\n",
      " |-- _id: struct (nullable = true)\n",
      " |    |-- oid: string (nullable = true)\n",
      " |-- item: string (nullable = true)\n",
      " |-- qty: double (nullable = true)\n",
      " |-- size: struct (nullable = true)\n",
      " |    |-- h: double (nullable = true)\n",
      " |    |-- w: double (nullable = true)\n",
      " |    |-- uom: string (nullable = true)\n",
      " |-- tags: array (nullable = true)\n",
      " |    |-- element: string (containsNull = true)\n",
      "\n"
     ]
    }
   ],
   "source": [
    "dados.printSchema()"
   ]
  },
  {
   "cell_type": "code",
   "execution_count": 7,
   "metadata": {
    "ExecuteTime": {
     "end_time": "2022-04-17T20:40:23.294027Z",
     "start_time": "2022-04-17T20:40:22.592102Z"
    }
   },
   "outputs": [
    {
     "data": {
      "text/plain": [
       "6"
      ]
     },
     "execution_count": 7,
     "metadata": {},
     "output_type": "execute_result"
    }
   ],
   "source": [
    "dados.count()"
   ]
  },
  {
   "cell_type": "code",
   "execution_count": 8,
   "metadata": {
    "ExecuteTime": {
     "end_time": "2022-04-17T20:40:24.411249Z",
     "start_time": "2022-04-17T20:40:24.142180Z"
    }
   },
   "outputs": [
    {
     "data": {
      "text/plain": [
       "Row(_id=Row(oid='625c6ea8ecf26b29ea4dba91'), item='Camisa Polo', qty=25.0, size=Row(h=14.0, w=21.0, uom='cm'), tags=['branco', 'vermelho'])"
      ]
     },
     "execution_count": 8,
     "metadata": {},
     "output_type": "execute_result"
    }
   ],
   "source": [
    "dados.head()"
   ]
  },
  {
   "cell_type": "code",
   "execution_count": 9,
   "metadata": {
    "ExecuteTime": {
     "end_time": "2022-04-17T20:40:26.103537Z",
     "start_time": "2022-04-17T20:40:25.892162Z"
    }
   },
   "outputs": [
    {
     "name": "stdout",
     "output_type": "stream",
     "text": [
      "+--------------------+---------------+----+-----------------+------------------+\n",
      "|                 _id|           item| qty|             size|              tags|\n",
      "+--------------------+---------------+----+-----------------+------------------+\n",
      "|[625c6ea8ecf26b29...|    Camisa Polo|25.0| [14.0, 21.0, cm]|[branco, vermelho]|\n",
      "|[625c6ea8ecf26b29...|Vestido Bordado|85.0| [27.9, 35.5, cm]|           [cinza]|\n",
      "|[625c6ea8ecf26b29...|        Moleton|45.0|[19.0, 22.85, cm]|     [verde, azul]|\n",
      "|[625c776e83ace296...|    Camisa Polo|25.0| [14.0, 21.0, cm]|[branco, vermelho]|\n",
      "|[625c776e83ace296...|Vestido Bordado|85.0| [27.9, 35.5, cm]|           [cinza]|\n",
      "|[625c776e83ace296...|        Moleton|45.0|[19.0, 22.85, cm]|     [verde, azul]|\n",
      "+--------------------+---------------+----+-----------------+------------------+\n",
      "\n"
     ]
    }
   ],
   "source": [
    "dados.show()"
   ]
  },
  {
   "cell_type": "code",
   "execution_count": 10,
   "metadata": {
    "ExecuteTime": {
     "end_time": "2022-04-17T20:40:35.163529Z",
     "start_time": "2022-04-17T20:40:35.155390Z"
    }
   },
   "outputs": [
    {
     "data": {
      "text/plain": [
       "pyspark.sql.dataframe.DataFrame"
      ]
     },
     "execution_count": 10,
     "metadata": {},
     "output_type": "execute_result"
    }
   ],
   "source": [
    "type(dados)"
   ]
  },
  {
   "cell_type": "markdown",
   "metadata": {},
   "source": [
    "### Gravação"
   ]
  },
  {
   "cell_type": "code",
   "execution_count": 11,
   "metadata": {
    "ExecuteTime": {
     "end_time": "2022-04-17T20:41:44.442514Z",
     "start_time": "2022-04-17T20:41:44.255063Z"
    }
   },
   "outputs": [],
   "source": [
    "registro = spark.createDataFrame([(\"Camisa T-Shirt\",  50)], [\"item\", \"qty\"])"
   ]
  },
  {
   "cell_type": "code",
   "execution_count": 12,
   "metadata": {
    "ExecuteTime": {
     "end_time": "2022-04-17T20:41:47.406479Z",
     "start_time": "2022-04-17T20:41:46.615265Z"
    }
   },
   "outputs": [
    {
     "name": "stderr",
     "output_type": "stream",
     "text": [
      "\r",
      "[Stage 5:>                                                          (0 + 8) / 8]\r",
      "\r",
      "                                                                                \r"
     ]
    }
   ],
   "source": [
    "registro.write.format(\"com.mongodb.spark.sql.DefaultSource\").mode(\"append\").save()"
   ]
  },
  {
   "cell_type": "code",
   "execution_count": 13,
   "metadata": {
    "ExecuteTime": {
     "end_time": "2022-04-17T20:41:50.442255Z",
     "start_time": "2022-04-17T20:41:50.329911Z"
    }
   },
   "outputs": [
    {
     "name": "stdout",
     "output_type": "stream",
     "text": [
      "+--------------------+---------------+----+-----------------+------------------+\n",
      "|                 _id|           item| qty|             size|              tags|\n",
      "+--------------------+---------------+----+-----------------+------------------+\n",
      "|[625c6ea8ecf26b29...|    Camisa Polo|25.0| [14.0, 21.0, cm]|[branco, vermelho]|\n",
      "|[625c6ea8ecf26b29...|Vestido Bordado|85.0| [27.9, 35.5, cm]|           [cinza]|\n",
      "|[625c6ea8ecf26b29...|        Moleton|45.0|[19.0, 22.85, cm]|     [verde, azul]|\n",
      "|[625c776e83ace296...|    Camisa Polo|25.0| [14.0, 21.0, cm]|[branco, vermelho]|\n",
      "|[625c776e83ace296...|Vestido Bordado|85.0| [27.9, 35.5, cm]|           [cinza]|\n",
      "|[625c776e83ace296...|        Moleton|45.0|[19.0, 22.85, cm]|     [verde, azul]|\n",
      "|[625c7b8b58d2be7a...| Camisa T-Shirt|50.0|             null|              null|\n",
      "+--------------------+---------------+----+-----------------+------------------+\n",
      "\n"
     ]
    }
   ],
   "source": [
    "dados.show()"
   ]
  }
 ],
 "metadata": {
  "anaconda-cloud": {},
  "kernelspec": {
   "display_name": "Python 3 (ipykernel)",
   "language": "python",
   "name": "python3"
  },
  "language_info": {
   "codemirror_mode": {
    "name": "ipython",
    "version": 3
   },
   "file_extension": ".py",
   "mimetype": "text/x-python",
   "name": "python",
   "nbconvert_exporter": "python",
   "pygments_lexer": "ipython3",
   "version": "3.8.10"
  },
  "nbTranslate": {
   "displayLangs": [
    "*"
   ],
   "hotkey": "alt-t",
   "langInMainMenu": true,
   "sourceLang": "en",
   "targetLang": "fr",
   "useGoogleTranslate": true
  },
  "toc": {
   "base_numbering": 1,
   "nav_menu": {},
   "number_sections": true,
   "sideBar": true,
   "skip_h1_title": false,
   "title_cell": "Table of Contents",
   "title_sidebar": "Contents",
   "toc_cell": false,
   "toc_position": {},
   "toc_section_display": true,
   "toc_window_display": false
  }
 },
 "nbformat": 4,
 "nbformat_minor": 1
}
